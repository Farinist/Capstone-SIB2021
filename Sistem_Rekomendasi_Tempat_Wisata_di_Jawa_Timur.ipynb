{
  "nbformat": 4,
  "nbformat_minor": 0,
  "metadata": {
    "colab": {
      "name": "Sistem Rekomendasi Tempat Wisata di Jawa Timur.ipynb",
      "provenance": []
    },
    "kernelspec": {
      "name": "python3",
      "display_name": "Python 3"
    },
    "language_info": {
      "name": "python"
    }
  },
  "cells": [
    {
      "cell_type": "markdown",
      "source": [
        "# **Sistem Rekomendasi**: Rekomendasi Tempat Wisata di Jawa Timur dengan *Content-based Filtering*\n",
        "---\n",
        "##### Oleh : Samuel Partogi Pakpahan dan Farin Istighfarizky\n",
        "##### Capstone Project - Studi Independen Bersertifikat x Dicoding"
      ],
      "metadata": {
        "id": "U-nT1IdnRwZl"
      }
    },
    {
      "cell_type": "markdown",
      "source": [
        "# ***Business Understanding***\n",
        "\n",
        "Sistem ini digunakan untuk untuk membantu dalam pengambilan keputusan dalam memilih tempat wisata yang ingin dikunjungi. Sistem rekomendasi tempat wisata ini akan dimodelkan dengan metode *Content-based Filtering* yaitu berdasarkan review pengunjung sebelumnya"
      ],
      "metadata": {
        "id": "CGNfu8sVlTPf"
      }
    },
    {
      "cell_type": "markdown",
      "source": [
        "# **Pendahuluan**\n",
        "\n",
        "Provinsi Jawa Timur memiliki banyak sekali tempat wisata, keindahan alam, lokasi dan kondisi udara yang sangat baik, sehingga banyak dikunjungi oleh wisatawan lokal maupun mancanegara. Semakin meningkatnya potensi wisata, sebagai seorang konsumen tentu akan mengalami keragu-raguan untuk memilih tempat yang akan dikunjungi serta keterbatasan waktu berkunjung membuat wisatawan tidak mungkin mencoba semua tempat wisata satu per satu. Oleh karena itu, untuk memudahkan dan membantu pengambilan keputusan, maka diciptakannya sistem rekomendasi destinasi wisata yang akan dikunjungi, khususnya di provinsi Jawa Timur."
      ],
      "metadata": {
        "id": "dzZqO_teSeJu"
      }
    },
    {
      "cell_type": "markdown",
      "source": [
        "# ***Problem Statement***\n"
      ],
      "metadata": {
        "id": "COZVlTCVn3U5"
      }
    },
    {
      "cell_type": "markdown",
      "source": [
        "# ***Research Questions***\n"
      ],
      "metadata": {
        "id": "OIi2_VAuol0P"
      }
    },
    {
      "cell_type": "markdown",
      "source": [
        "## ***Data Understanding***"
      ],
      "metadata": {
        "id": "dzKqK83qpCKJ"
      }
    },
    {
      "cell_type": "markdown",
      "source": [
        "Mengimpor library yang dibutuhkan"
      ],
      "metadata": {
        "id": "KTghLBc6Sjzd"
      }
    },
    {
      "cell_type": "code",
      "source": [
        "# Untuk pengolahan data\n",
        "import pandas as pd\n",
        "import numpy as np\n",
        "import keras\n",
        "import nltk\n",
        "import seaborn as sns\n",
        "from keras import layers \n",
        "from sklearn.preprocessing import MultiLabelBinarizer\n",
        "from sklearn.feature_extraction.text import TfidfVectorizer\n",
        "from collections import defaultdict\n",
        "import matplotlib.pyplot as plt\n",
        "\n",
        "import tensorflow as tf\n",
        "from keras.models import Model\n",
        "from tensorflow.keras.optimizers import Adam\n",
        "from keras.layers import Add, Activation, Lambda, BatchNormalization, Concatenate, Dropout, Input, Embedding, Dot, Reshape, Dense, Flatten\n",
        "import matplotlib.pyplot as plt\n",
        "from tensorflow.keras.callbacks import Callback, ModelCheckpoint, LearningRateScheduler, TensorBoard, EarlyStopping, ReduceLROnPlateau"
      ],
      "metadata": {
        "id": "b-Ztah9tSjUr"
      },
      "execution_count": null,
      "outputs": []
    },
    {
      "cell_type": "markdown",
      "source": [
        "Memuat Data pada sebuah Dataframe menggunakan *pandas*"
      ],
      "metadata": {
        "id": "g04w3QpiZ2km"
      }
    },
    {
      "cell_type": "code",
      "execution_count": 4,
      "metadata": {
        "id": "oKts1-SqQtUB"
      },
      "outputs": [],
      "source": [
        "# Memuat data pada dataframe di setiap variable\n",
        "wisata = pd.read_excel(\"InfoWisata.xlsx\")\n",
        "rating = pd.read_excel(\"Reviewer.xlsx\")"
      ]
    },
    {
      "cell_type": "code",
      "source": [
        "wisata.head()"
      ],
      "metadata": {
        "colab": {
          "base_uri": "https://localhost:8080/",
          "height": 206
        },
        "id": "QbYetiMWV4p4",
        "outputId": "7e653aac-1c75-4805-ccf9-e9b35689e053"
      },
      "execution_count": 5,
      "outputs": [
        {
          "output_type": "execute_result",
          "data": {
            "text/html": [
              "<div>\n",
              "<style scoped>\n",
              "    .dataframe tbody tr th:only-of-type {\n",
              "        vertical-align: middle;\n",
              "    }\n",
              "\n",
              "    .dataframe tbody tr th {\n",
              "        vertical-align: top;\n",
              "    }\n",
              "\n",
              "    .dataframe thead th {\n",
              "        text-align: right;\n",
              "    }\n",
              "</style>\n",
              "<table border=\"1\" class=\"dataframe\">\n",
              "  <thead>\n",
              "    <tr style=\"text-align: right;\">\n",
              "      <th></th>\n",
              "      <th>Unnamed: 0</th>\n",
              "      <th>Category</th>\n",
              "      <th>Name</th>\n",
              "      <th>City</th>\n",
              "      <th>Price</th>\n",
              "    </tr>\n",
              "  </thead>\n",
              "  <tbody>\n",
              "    <tr>\n",
              "      <th>0</th>\n",
              "      <td>NaN</td>\n",
              "      <td>Gunung</td>\n",
              "      <td>Arjuna</td>\n",
              "      <td>Malang</td>\n",
              "      <td>Rp. 11.000</td>\n",
              "    </tr>\n",
              "    <tr>\n",
              "      <th>1</th>\n",
              "      <td>NaN</td>\n",
              "      <td>Pantai</td>\n",
              "      <td>Batu bengkung</td>\n",
              "      <td>Malang</td>\n",
              "      <td>Rp. 10.000</td>\n",
              "    </tr>\n",
              "    <tr>\n",
              "      <th>2</th>\n",
              "      <td>NaN</td>\n",
              "      <td>Air Terjun</td>\n",
              "      <td>Coban Rondo</td>\n",
              "      <td>Batu</td>\n",
              "      <td>Rp. 30.000</td>\n",
              "    </tr>\n",
              "    <tr>\n",
              "      <th>3</th>\n",
              "      <td>NaN</td>\n",
              "      <td>Gunung</td>\n",
              "      <td>Bromo</td>\n",
              "      <td>Probolinggo</td>\n",
              "      <td>Rp. 34.000</td>\n",
              "    </tr>\n",
              "    <tr>\n",
              "      <th>4</th>\n",
              "      <td>NaN</td>\n",
              "      <td>Gunung</td>\n",
              "      <td>Ijen</td>\n",
              "      <td>Banyuwangi</td>\n",
              "      <td>Rp. 7.500</td>\n",
              "    </tr>\n",
              "  </tbody>\n",
              "</table>\n",
              "</div>"
            ],
            "text/plain": [
              "   Unnamed: 0    Category           Name          City       Price\n",
              "0         NaN      Gunung          Arjuna       Malang  Rp. 11.000\n",
              "1         NaN      Pantai   Batu bengkung       Malang  Rp. 10.000\n",
              "2         NaN  Air Terjun     Coban Rondo        Batu   Rp. 30.000\n",
              "3         NaN      Gunung           Bromo  Probolinggo  Rp. 34.000\n",
              "4         NaN      Gunung            Ijen   Banyuwangi   Rp. 7.500"
            ]
          },
          "metadata": {},
          "execution_count": 5
        }
      ]
    },
    {
      "cell_type": "code",
      "source": [
        "rating.head()"
      ],
      "metadata": {
        "colab": {
          "base_uri": "https://localhost:8080/",
          "height": 206
        },
        "id": "yKdTqrTJWO5j",
        "outputId": "3ed1e844-182f-4739-9805-d3740c507aa0"
      },
      "execution_count": 6,
      "outputs": [
        {
          "output_type": "execute_result",
          "data": {
            "text/html": [
              "<div>\n",
              "<style scoped>\n",
              "    .dataframe tbody tr th:only-of-type {\n",
              "        vertical-align: middle;\n",
              "    }\n",
              "\n",
              "    .dataframe tbody tr th {\n",
              "        vertical-align: top;\n",
              "    }\n",
              "\n",
              "    .dataframe thead th {\n",
              "        text-align: right;\n",
              "    }\n",
              "</style>\n",
              "<table border=\"1\" class=\"dataframe\">\n",
              "  <thead>\n",
              "    <tr style=\"text-align: right;\">\n",
              "      <th></th>\n",
              "      <th>Category</th>\n",
              "      <th>Name</th>\n",
              "      <th>City</th>\n",
              "      <th>Rating</th>\n",
              "      <th>Review</th>\n",
              "    </tr>\n",
              "  </thead>\n",
              "  <tbody>\n",
              "    <tr>\n",
              "      <th>0</th>\n",
              "      <td>Gunung</td>\n",
              "      <td>Arjuna</td>\n",
              "      <td>Malang</td>\n",
              "      <td>4.5</td>\n",
              "      <td>\"jalurnya sangat mendamaikan, dengan pohon-poh...</td>\n",
              "    </tr>\n",
              "    <tr>\n",
              "      <th>1</th>\n",
              "      <td>Pantai</td>\n",
              "      <td>Batu bengkung</td>\n",
              "      <td>Malang</td>\n",
              "      <td>4.5</td>\n",
              "      <td>\"Pantai Batu Bengkung terletak di Kabupaten Ma...</td>\n",
              "    </tr>\n",
              "    <tr>\n",
              "      <th>2</th>\n",
              "      <td>Air Terjun</td>\n",
              "      <td>Coban Rondo</td>\n",
              "      <td>Batu</td>\n",
              "      <td>4.0</td>\n",
              "      <td>\"Tempat menarik. Akses mudah, tempat menarik, ...</td>\n",
              "    </tr>\n",
              "    <tr>\n",
              "      <th>3</th>\n",
              "      <td>Gunung</td>\n",
              "      <td>Bromo</td>\n",
              "      <td>Probolinggo</td>\n",
              "      <td>4.6</td>\n",
              "      <td>\"Gunung yg paling mudah didaki yaa gunung brom...</td>\n",
              "    </tr>\n",
              "    <tr>\n",
              "      <th>4</th>\n",
              "      <td>Gunung</td>\n",
              "      <td>Ijen</td>\n",
              "      <td>Banyuwangi</td>\n",
              "      <td>4.7</td>\n",
              "      <td>\"Akses mendaki cukup mudah, parkir cukup luas,...</td>\n",
              "    </tr>\n",
              "  </tbody>\n",
              "</table>\n",
              "</div>"
            ],
            "text/plain": [
              "    Category   ...                                             Review\n",
              "0      Gunung  ...  \"jalurnya sangat mendamaikan, dengan pohon-poh...\n",
              "1     Pantai   ...  \"Pantai Batu Bengkung terletak di Kabupaten Ma...\n",
              "2  Air Terjun  ...  \"Tempat menarik. Akses mudah, tempat menarik, ...\n",
              "3     Gunung   ...  \"Gunung yg paling mudah didaki yaa gunung brom...\n",
              "4     Gunung   ...  \"Akses mendaki cukup mudah, parkir cukup luas,...\n",
              "\n",
              "[5 rows x 5 columns]"
            ]
          },
          "metadata": {},
          "execution_count": 6
        }
      ]
    },
    {
      "cell_type": "code",
      "source": [
        "rating.describe()"
      ],
      "metadata": {
        "colab": {
          "base_uri": "https://localhost:8080/",
          "height": 300
        },
        "id": "za7ZTUiuWWYt",
        "outputId": "8390843a-ed80-44f3-ea5c-d5e2f74e6cdd"
      },
      "execution_count": 7,
      "outputs": [
        {
          "output_type": "execute_result",
          "data": {
            "text/html": [
              "<div>\n",
              "<style scoped>\n",
              "    .dataframe tbody tr th:only-of-type {\n",
              "        vertical-align: middle;\n",
              "    }\n",
              "\n",
              "    .dataframe tbody tr th {\n",
              "        vertical-align: top;\n",
              "    }\n",
              "\n",
              "    .dataframe thead th {\n",
              "        text-align: right;\n",
              "    }\n",
              "</style>\n",
              "<table border=\"1\" class=\"dataframe\">\n",
              "  <thead>\n",
              "    <tr style=\"text-align: right;\">\n",
              "      <th></th>\n",
              "      <th>Rating</th>\n",
              "    </tr>\n",
              "  </thead>\n",
              "  <tbody>\n",
              "    <tr>\n",
              "      <th>count</th>\n",
              "      <td>100.000000</td>\n",
              "    </tr>\n",
              "    <tr>\n",
              "      <th>mean</th>\n",
              "      <td>4.328000</td>\n",
              "    </tr>\n",
              "    <tr>\n",
              "      <th>std</th>\n",
              "      <td>0.287827</td>\n",
              "    </tr>\n",
              "    <tr>\n",
              "      <th>min</th>\n",
              "      <td>3.500000</td>\n",
              "    </tr>\n",
              "    <tr>\n",
              "      <th>25%</th>\n",
              "      <td>4.100000</td>\n",
              "    </tr>\n",
              "    <tr>\n",
              "      <th>50%</th>\n",
              "      <td>4.400000</td>\n",
              "    </tr>\n",
              "    <tr>\n",
              "      <th>75%</th>\n",
              "      <td>4.500000</td>\n",
              "    </tr>\n",
              "    <tr>\n",
              "      <th>max</th>\n",
              "      <td>5.000000</td>\n",
              "    </tr>\n",
              "  </tbody>\n",
              "</table>\n",
              "</div>"
            ],
            "text/plain": [
              "           Rating\n",
              "count  100.000000\n",
              "mean     4.328000\n",
              "std      0.287827\n",
              "min      3.500000\n",
              "25%      4.100000\n",
              "50%      4.400000\n",
              "75%      4.500000\n",
              "max      5.000000"
            ]
          },
          "metadata": {},
          "execution_count": 7
        }
      ]
    },
    {
      "cell_type": "markdown",
      "source": [
        "# ***Data Preprocessing***"
      ],
      "metadata": {
        "id": "Ahg0DqiTZW6j"
      }
    },
    {
      "cell_type": "markdown",
      "source": [
        "Menggabungkan Data Tempat Wisata dengan Data Rating"
      ],
      "metadata": {
        "id": "0U_tcIeWaNYv"
      }
    },
    {
      "cell_type": "code",
      "source": [
        "pd.concat([wisata,rating], axis=1)"
      ],
      "metadata": {
        "id": "f3aNTDr3Zdc5",
        "colab": {
          "base_uri": "https://localhost:8080/",
          "height": 563
        },
        "outputId": "d33008c0-46e9-4594-cd97-6cb72c0f80b5"
      },
      "execution_count": 17,
      "outputs": [
        {
          "output_type": "execute_result",
          "data": {
            "text/html": [
              "<div>\n",
              "<style scoped>\n",
              "    .dataframe tbody tr th:only-of-type {\n",
              "        vertical-align: middle;\n",
              "    }\n",
              "\n",
              "    .dataframe tbody tr th {\n",
              "        vertical-align: top;\n",
              "    }\n",
              "\n",
              "    .dataframe thead th {\n",
              "        text-align: right;\n",
              "    }\n",
              "</style>\n",
              "<table border=\"1\" class=\"dataframe\">\n",
              "  <thead>\n",
              "    <tr style=\"text-align: right;\">\n",
              "      <th></th>\n",
              "      <th>Category</th>\n",
              "      <th>Name</th>\n",
              "      <th>City</th>\n",
              "      <th>Price</th>\n",
              "      <th>Category</th>\n",
              "      <th>Name</th>\n",
              "      <th>City</th>\n",
              "      <th>Rating</th>\n",
              "      <th>Review</th>\n",
              "    </tr>\n",
              "  </thead>\n",
              "  <tbody>\n",
              "    <tr>\n",
              "      <th>0</th>\n",
              "      <td>Gunung</td>\n",
              "      <td>Arjuna</td>\n",
              "      <td>Malang</td>\n",
              "      <td>Rp. 11.000</td>\n",
              "      <td>Gunung</td>\n",
              "      <td>Arjuna</td>\n",
              "      <td>Malang</td>\n",
              "      <td>4.5</td>\n",
              "      <td>\"jalurnya sangat mendamaikan, dengan pohon-poh...</td>\n",
              "    </tr>\n",
              "    <tr>\n",
              "      <th>1</th>\n",
              "      <td>Pantai</td>\n",
              "      <td>Batu bengkung</td>\n",
              "      <td>Malang</td>\n",
              "      <td>Rp. 10.000</td>\n",
              "      <td>Pantai</td>\n",
              "      <td>Batu bengkung</td>\n",
              "      <td>Malang</td>\n",
              "      <td>4.5</td>\n",
              "      <td>\"Pantai Batu Bengkung terletak di Kabupaten Ma...</td>\n",
              "    </tr>\n",
              "    <tr>\n",
              "      <th>2</th>\n",
              "      <td>Air Terjun</td>\n",
              "      <td>Coban Rondo</td>\n",
              "      <td>Batu</td>\n",
              "      <td>Rp. 30.000</td>\n",
              "      <td>Air Terjun</td>\n",
              "      <td>Coban Rondo</td>\n",
              "      <td>Batu</td>\n",
              "      <td>4.0</td>\n",
              "      <td>\"Tempat menarik. Akses mudah, tempat menarik, ...</td>\n",
              "    </tr>\n",
              "    <tr>\n",
              "      <th>3</th>\n",
              "      <td>Gunung</td>\n",
              "      <td>Bromo</td>\n",
              "      <td>Probolinggo</td>\n",
              "      <td>Rp. 34.000</td>\n",
              "      <td>Gunung</td>\n",
              "      <td>Bromo</td>\n",
              "      <td>Probolinggo</td>\n",
              "      <td>4.6</td>\n",
              "      <td>\"Gunung yg paling mudah didaki yaa gunung brom...</td>\n",
              "    </tr>\n",
              "    <tr>\n",
              "      <th>4</th>\n",
              "      <td>Gunung</td>\n",
              "      <td>Ijen</td>\n",
              "      <td>Banyuwangi</td>\n",
              "      <td>Rp. 7.500</td>\n",
              "      <td>Gunung</td>\n",
              "      <td>Ijen</td>\n",
              "      <td>Banyuwangi</td>\n",
              "      <td>4.7</td>\n",
              "      <td>\"Akses mendaki cukup mudah, parkir cukup luas,...</td>\n",
              "    </tr>\n",
              "    <tr>\n",
              "      <th>...</th>\n",
              "      <td>...</td>\n",
              "      <td>...</td>\n",
              "      <td>...</td>\n",
              "      <td>...</td>\n",
              "      <td>...</td>\n",
              "      <td>...</td>\n",
              "      <td>...</td>\n",
              "      <td>...</td>\n",
              "      <td>...</td>\n",
              "    </tr>\n",
              "    <tr>\n",
              "      <th>95</th>\n",
              "      <td>Museum</td>\n",
              "      <td>Trinil</td>\n",
              "      <td>Ngawi</td>\n",
              "      <td>Rp. 3.000</td>\n",
              "      <td>Museum</td>\n",
              "      <td>Trinil</td>\n",
              "      <td>Ngawi</td>\n",
              "      <td>4.2</td>\n",
              "      <td>\"Sangat bagus untuk anak-anak, karena memiliki...</td>\n",
              "    </tr>\n",
              "    <tr>\n",
              "      <th>96</th>\n",
              "      <td>Gunung</td>\n",
              "      <td>Gumitir</td>\n",
              "      <td>Probolinggo</td>\n",
              "      <td>Rp. 34.000</td>\n",
              "      <td>Gunung</td>\n",
              "      <td>Gumitir</td>\n",
              "      <td>Probolinggo</td>\n",
              "      <td>4.4</td>\n",
              "      <td>\"Bagus sih tapi ati ati lho kalau kesana soaln...</td>\n",
              "    </tr>\n",
              "    <tr>\n",
              "      <th>97</th>\n",
              "      <td>Museum</td>\n",
              "      <td>Trowulan</td>\n",
              "      <td>Mojokerto</td>\n",
              "      <td>Rp. 5.000</td>\n",
              "      <td>Museum</td>\n",
              "      <td>Trowulan</td>\n",
              "      <td>Mojokerto</td>\n",
              "      <td>4.4</td>\n",
              "      <td>\"Anda TIDAK DAPAT mengambil foto dari setiap o...</td>\n",
              "    </tr>\n",
              "    <tr>\n",
              "      <th>98</th>\n",
              "      <td>Air Terjun</td>\n",
              "      <td>Watu Gedhek</td>\n",
              "      <td>Mojokerto</td>\n",
              "      <td>Rp. 5.000</td>\n",
              "      <td>Air Terjun</td>\n",
              "      <td>Watu Gedhek</td>\n",
              "      <td>Mojokerto</td>\n",
              "      <td>4.3</td>\n",
              "      <td>\"Ini adalah tempat yang asyik untuk dijelajahi...</td>\n",
              "    </tr>\n",
              "    <tr>\n",
              "      <th>99</th>\n",
              "      <td>Museum</td>\n",
              "      <td>Mpu Purwa</td>\n",
              "      <td>Malang</td>\n",
              "      <td>Gratis</td>\n",
              "      <td>Museum</td>\n",
              "      <td>Mpu Purwa</td>\n",
              "      <td>Malang</td>\n",
              "      <td>4.5</td>\n",
              "      <td>\"Berlokasi di Malang. Tidak ada tiket masuk, t...</td>\n",
              "    </tr>\n",
              "  </tbody>\n",
              "</table>\n",
              "<p>100 rows × 9 columns</p>\n",
              "</div>"
            ],
            "text/plain": [
              "      Category   ...                                             Review\n",
              "0       Gunung   ...  \"jalurnya sangat mendamaikan, dengan pohon-poh...\n",
              "1       Pantai   ...  \"Pantai Batu Bengkung terletak di Kabupaten Ma...\n",
              "2   Air Terjun   ...  \"Tempat menarik. Akses mudah, tempat menarik, ...\n",
              "3       Gunung   ...  \"Gunung yg paling mudah didaki yaa gunung brom...\n",
              "4       Gunung   ...  \"Akses mendaki cukup mudah, parkir cukup luas,...\n",
              "..          ...  ...                                                ...\n",
              "95       Museum  ...  \"Sangat bagus untuk anak-anak, karena memiliki...\n",
              "96      Gunung   ...  \"Bagus sih tapi ati ati lho kalau kesana soaln...\n",
              "97       Museum  ...  \"Anda TIDAK DAPAT mengambil foto dari setiap o...\n",
              "98   Air Terjun  ...  \"Ini adalah tempat yang asyik untuk dijelajahi...\n",
              "99       Museum  ...  \"Berlokasi di Malang. Tidak ada tiket masuk, t...\n",
              "\n",
              "[100 rows x 9 columns]"
            ]
          },
          "metadata": {},
          "execution_count": 17
        }
      ]
    },
    {
      "cell_type": "markdown",
      "source": [
        "# **Persiapan Data** ***(Data Preparation)*** **dan Visualisasi Data**"
      ],
      "metadata": {
        "id": "OKH-f9vYY_xc"
      }
    },
    {
      "cell_type": "code",
      "source": [
        ""
      ],
      "metadata": {
        "id": "cSCp7F2iZsZ4"
      },
      "execution_count": null,
      "outputs": []
    }
  ]
}