{
  "nbformat": 4,
  "nbformat_minor": 0,
  "metadata": {
    "colab": {
      "name": "Sistem Rekomendasi Tempat Wisata di Jawa Timur.ipynb",
      "provenance": [],
      "collapsed_sections": []
    },
    "kernelspec": {
      "name": "python3",
      "display_name": "Python 3"
    },
    "language_info": {
      "name": "python"
    }
  },
  "cells": [
    {
      "cell_type": "markdown",
      "source": [
        "# **Sistem Rekomendasi**: Rekomendasi Tempat Wisata di Jawa Timur dengan Content-based Filtering\n",
        "---\n",
        "##### Oleh : Samuel Partogi Pakpahan dan Farin Istighfarizky\n",
        "##### Capstone Project - Studi Independen Bersertifikat x Dicoding"
      ],
      "metadata": {
        "id": "U-nT1IdnRwZl"
      }
    },
    {
      "cell_type": "markdown",
      "source": [
        "# **Pendahuluan**\n",
        "\n",
        "Pada proyek ini akan dibuat sistem rekomendasi tempat wisata di Jawa Timur menggunakan *content-based filtering*. Untuk memudahkan navigasi gunakan menu *Table of Contents* di kanan atas Google Colaboratory."
      ],
      "metadata": {
        "id": "dzZqO_teSeJu"
      }
    },
    {
      "cell_type": "markdown",
      "source": [
        "# **1. Mengimpor library yang dibutuhkan**"
      ],
      "metadata": {
        "id": "KTghLBc6Sjzd"
      }
    },
    {
      "cell_type": "code",
      "source": [
        "# Untuk pengolahan data\n",
        "import pandas as pd\n",
        "import numpy as np"
      ],
      "metadata": {
        "id": "b-Ztah9tSjUr"
      },
      "execution_count": null,
      "outputs": []
    },
    {
      "cell_type": "markdown",
      "source": [
        "# **2. Mempersiapkan Dataset dan Pemahaman Data** ***(Data Understanding)***"
      ],
      "metadata": {
        "id": "lilTNBX4SnQW"
      }
    },
    {
      "cell_type": "markdown",
      "source": [
        "![Sampul Dataset](https://raw.githubusercontent.com/samuelpakpahan20/Capstone-SIB2021/master/images/sampul.PNG)\n",
        "\n",
        "Informasi Dataset :\n",
        "\n",
        "Jenis | Keterangan\n",
        "--- | ---\n",
        "Sumber | [Kaggle Dataset : Info Tempat Wisata](https://www.kaggle.com/azharianisah/infotempatwisata)\n",
        "Lisensi | CC0: Public Domain\n",
        "Rating Penggunaan | 0.0\n",
        "Jenis dan Ukuran Berkas | zip (46 kB)"
      ],
      "metadata": {
        "id": "pT-YScwuTu-R"
      }
    },
    {
      "cell_type": "markdown",
      "source": [
        "## Memuat Data pada sebuah Dataframe menggunakan *pandas*"
      ],
      "metadata": {
        "id": "g04w3QpiZ2km"
      }
    },
    {
      "cell_type": "code",
      "execution_count": null,
      "metadata": {
        "id": "oKts1-SqQtUB"
      },
      "outputs": [],
      "source": [
        "# Memuat data pada dataframe di setiap variable\n",
        "wisata = pd.read_excel(\"InfoWisata.xlsx\")\n",
        "rating = pd.read_excel(\"Reviewer.xlsx\")"
      ]
    },
    {
      "cell_type": "code",
      "source": [
        "wisata.head()"
      ],
      "metadata": {
        "colab": {
          "base_uri": "https://localhost:8080/",
          "height": 206
        },
        "id": "QbYetiMWV4p4",
        "outputId": "7e653aac-1c75-4805-ccf9-e9b35689e053"
      },
      "execution_count": null,
      "outputs": [
        {
          "output_type": "execute_result",
          "data": {
            "text/html": [
              "<div>\n",
              "<style scoped>\n",
              "    .dataframe tbody tr th:only-of-type {\n",
              "        vertical-align: middle;\n",
              "    }\n",
              "\n",
              "    .dataframe tbody tr th {\n",
              "        vertical-align: top;\n",
              "    }\n",
              "\n",
              "    .dataframe thead th {\n",
              "        text-align: right;\n",
              "    }\n",
              "</style>\n",
              "<table border=\"1\" class=\"dataframe\">\n",
              "  <thead>\n",
              "    <tr style=\"text-align: right;\">\n",
              "      <th></th>\n",
              "      <th>Unnamed: 0</th>\n",
              "      <th>Category</th>\n",
              "      <th>Name</th>\n",
              "      <th>City</th>\n",
              "      <th>Price</th>\n",
              "    </tr>\n",
              "  </thead>\n",
              "  <tbody>\n",
              "    <tr>\n",
              "      <th>0</th>\n",
              "      <td>NaN</td>\n",
              "      <td>Gunung</td>\n",
              "      <td>Arjuna</td>\n",
              "      <td>Malang</td>\n",
              "      <td>Rp. 11.000</td>\n",
              "    </tr>\n",
              "    <tr>\n",
              "      <th>1</th>\n",
              "      <td>NaN</td>\n",
              "      <td>Pantai</td>\n",
              "      <td>Batu bengkung</td>\n",
              "      <td>Malang</td>\n",
              "      <td>Rp. 10.000</td>\n",
              "    </tr>\n",
              "    <tr>\n",
              "      <th>2</th>\n",
              "      <td>NaN</td>\n",
              "      <td>Air Terjun</td>\n",
              "      <td>Coban Rondo</td>\n",
              "      <td>Batu</td>\n",
              "      <td>Rp. 30.000</td>\n",
              "    </tr>\n",
              "    <tr>\n",
              "      <th>3</th>\n",
              "      <td>NaN</td>\n",
              "      <td>Gunung</td>\n",
              "      <td>Bromo</td>\n",
              "      <td>Probolinggo</td>\n",
              "      <td>Rp. 34.000</td>\n",
              "    </tr>\n",
              "    <tr>\n",
              "      <th>4</th>\n",
              "      <td>NaN</td>\n",
              "      <td>Gunung</td>\n",
              "      <td>Ijen</td>\n",
              "      <td>Banyuwangi</td>\n",
              "      <td>Rp. 7.500</td>\n",
              "    </tr>\n",
              "  </tbody>\n",
              "</table>\n",
              "</div>"
            ],
            "text/plain": [
              "   Unnamed: 0    Category           Name          City       Price\n",
              "0         NaN      Gunung          Arjuna       Malang  Rp. 11.000\n",
              "1         NaN      Pantai   Batu bengkung       Malang  Rp. 10.000\n",
              "2         NaN  Air Terjun     Coban Rondo        Batu   Rp. 30.000\n",
              "3         NaN      Gunung           Bromo  Probolinggo  Rp. 34.000\n",
              "4         NaN      Gunung            Ijen   Banyuwangi   Rp. 7.500"
            ]
          },
          "metadata": {},
          "execution_count": 5
        }
      ]
    },
    {
      "cell_type": "code",
      "source": [
        "rating.head()"
      ],
      "metadata": {
        "colab": {
          "base_uri": "https://localhost:8080/",
          "height": 206
        },
        "id": "yKdTqrTJWO5j",
        "outputId": "3ed1e844-182f-4739-9805-d3740c507aa0"
      },
      "execution_count": null,
      "outputs": [
        {
          "output_type": "execute_result",
          "data": {
            "text/html": [
              "<div>\n",
              "<style scoped>\n",
              "    .dataframe tbody tr th:only-of-type {\n",
              "        vertical-align: middle;\n",
              "    }\n",
              "\n",
              "    .dataframe tbody tr th {\n",
              "        vertical-align: top;\n",
              "    }\n",
              "\n",
              "    .dataframe thead th {\n",
              "        text-align: right;\n",
              "    }\n",
              "</style>\n",
              "<table border=\"1\" class=\"dataframe\">\n",
              "  <thead>\n",
              "    <tr style=\"text-align: right;\">\n",
              "      <th></th>\n",
              "      <th>Category</th>\n",
              "      <th>Name</th>\n",
              "      <th>City</th>\n",
              "      <th>Rating</th>\n",
              "      <th>Review</th>\n",
              "    </tr>\n",
              "  </thead>\n",
              "  <tbody>\n",
              "    <tr>\n",
              "      <th>0</th>\n",
              "      <td>Gunung</td>\n",
              "      <td>Arjuna</td>\n",
              "      <td>Malang</td>\n",
              "      <td>4.5</td>\n",
              "      <td>\"jalurnya sangat mendamaikan, dengan pohon-poh...</td>\n",
              "    </tr>\n",
              "    <tr>\n",
              "      <th>1</th>\n",
              "      <td>Pantai</td>\n",
              "      <td>Batu bengkung</td>\n",
              "      <td>Malang</td>\n",
              "      <td>4.5</td>\n",
              "      <td>\"Pantai Batu Bengkung terletak di Kabupaten Ma...</td>\n",
              "    </tr>\n",
              "    <tr>\n",
              "      <th>2</th>\n",
              "      <td>Air Terjun</td>\n",
              "      <td>Coban Rondo</td>\n",
              "      <td>Batu</td>\n",
              "      <td>4.0</td>\n",
              "      <td>\"Tempat menarik. Akses mudah, tempat menarik, ...</td>\n",
              "    </tr>\n",
              "    <tr>\n",
              "      <th>3</th>\n",
              "      <td>Gunung</td>\n",
              "      <td>Bromo</td>\n",
              "      <td>Probolinggo</td>\n",
              "      <td>4.6</td>\n",
              "      <td>\"Gunung yg paling mudah didaki yaa gunung brom...</td>\n",
              "    </tr>\n",
              "    <tr>\n",
              "      <th>4</th>\n",
              "      <td>Gunung</td>\n",
              "      <td>Ijen</td>\n",
              "      <td>Banyuwangi</td>\n",
              "      <td>4.7</td>\n",
              "      <td>\"Akses mendaki cukup mudah, parkir cukup luas,...</td>\n",
              "    </tr>\n",
              "  </tbody>\n",
              "</table>\n",
              "</div>"
            ],
            "text/plain": [
              "    Category   ...                                             Review\n",
              "0      Gunung  ...  \"jalurnya sangat mendamaikan, dengan pohon-poh...\n",
              "1     Pantai   ...  \"Pantai Batu Bengkung terletak di Kabupaten Ma...\n",
              "2  Air Terjun  ...  \"Tempat menarik. Akses mudah, tempat menarik, ...\n",
              "3     Gunung   ...  \"Gunung yg paling mudah didaki yaa gunung brom...\n",
              "4     Gunung   ...  \"Akses mendaki cukup mudah, parkir cukup luas,...\n",
              "\n",
              "[5 rows x 5 columns]"
            ]
          },
          "metadata": {},
          "execution_count": 6
        }
      ]
    },
    {
      "cell_type": "code",
      "source": [
        "rating.describe()"
      ],
      "metadata": {
        "colab": {
          "base_uri": "https://localhost:8080/",
          "height": 300
        },
        "id": "za7ZTUiuWWYt",
        "outputId": "8390843a-ed80-44f3-ea5c-d5e2f74e6cdd"
      },
      "execution_count": null,
      "outputs": [
        {
          "output_type": "execute_result",
          "data": {
            "text/html": [
              "<div>\n",
              "<style scoped>\n",
              "    .dataframe tbody tr th:only-of-type {\n",
              "        vertical-align: middle;\n",
              "    }\n",
              "\n",
              "    .dataframe tbody tr th {\n",
              "        vertical-align: top;\n",
              "    }\n",
              "\n",
              "    .dataframe thead th {\n",
              "        text-align: right;\n",
              "    }\n",
              "</style>\n",
              "<table border=\"1\" class=\"dataframe\">\n",
              "  <thead>\n",
              "    <tr style=\"text-align: right;\">\n",
              "      <th></th>\n",
              "      <th>Rating</th>\n",
              "    </tr>\n",
              "  </thead>\n",
              "  <tbody>\n",
              "    <tr>\n",
              "      <th>count</th>\n",
              "      <td>100.000000</td>\n",
              "    </tr>\n",
              "    <tr>\n",
              "      <th>mean</th>\n",
              "      <td>4.328000</td>\n",
              "    </tr>\n",
              "    <tr>\n",
              "      <th>std</th>\n",
              "      <td>0.287827</td>\n",
              "    </tr>\n",
              "    <tr>\n",
              "      <th>min</th>\n",
              "      <td>3.500000</td>\n",
              "    </tr>\n",
              "    <tr>\n",
              "      <th>25%</th>\n",
              "      <td>4.100000</td>\n",
              "    </tr>\n",
              "    <tr>\n",
              "      <th>50%</th>\n",
              "      <td>4.400000</td>\n",
              "    </tr>\n",
              "    <tr>\n",
              "      <th>75%</th>\n",
              "      <td>4.500000</td>\n",
              "    </tr>\n",
              "    <tr>\n",
              "      <th>max</th>\n",
              "      <td>5.000000</td>\n",
              "    </tr>\n",
              "  </tbody>\n",
              "</table>\n",
              "</div>"
            ],
            "text/plain": [
              "           Rating\n",
              "count  100.000000\n",
              "mean     4.328000\n",
              "std      0.287827\n",
              "min      3.500000\n",
              "25%      4.100000\n",
              "50%      4.400000\n",
              "75%      4.500000\n",
              "max      5.000000"
            ]
          },
          "metadata": {},
          "execution_count": 7
        }
      ]
    },
    {
      "cell_type": "markdown",
      "source": [
        "# **3. Data Preprocessing**"
      ],
      "metadata": {
        "id": "Ahg0DqiTZW6j"
      }
    },
    {
      "cell_type": "markdown",
      "source": [
        "## Menggabungkan Data Tempat Wisata dengan Data Rating"
      ],
      "metadata": {
        "id": "0U_tcIeWaNYv"
      }
    },
    {
      "cell_type": "code",
      "source": [
        ""
      ],
      "metadata": {
        "id": "f3aNTDr3Zdc5"
      },
      "execution_count": null,
      "outputs": []
    },
    {
      "cell_type": "markdown",
      "source": [
        "# **4. Persiapan Data** ***(Data Preparation)*** **dan Visualisasi Data**"
      ],
      "metadata": {
        "id": "OKH-f9vYY_xc"
      }
    },
    {
      "cell_type": "code",
      "source": [
        ""
      ],
      "metadata": {
        "id": "cSCp7F2iZsZ4"
      },
      "execution_count": null,
      "outputs": []
    }
  ]
}