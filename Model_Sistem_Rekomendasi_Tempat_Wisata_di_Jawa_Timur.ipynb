{
  "nbformat": 4,
  "nbformat_minor": 0,
  "metadata": {
    "colab": {
      "name": "Model Sistem Rekomendasi Tempat Wisata di Jawa Timur.ipynb",
      "provenance": [],
      "collapsed_sections": []
    },
    "kernelspec": {
      "name": "python3",
      "display_name": "Python 3"
    },
    "language_info": {
      "name": "python"
    }
  },
  "cells": [
    {
      "cell_type": "markdown",
      "source": [
        "# **Sistem Rekomendasi**: Rekomendasi Tempat Wisata di Jawa Timur dengan Content-based Filtering\n",
        "---\n",
        "##### Oleh : Samuel Partogi Pakpahan dan Farin Istighfarizky\n",
        "##### Capstone Project - Studi Independen Bersertifikat x Dicoding"
      ],
      "metadata": {
        "id": "U-nT1IdnRwZl"
      }
    },
    {
      "cell_type": "markdown",
      "source": [
        "# **Pendahuluan**\n",
        "\n",
        "Pada proyek ini akan dibuat sistem rekomendasi tempat wisata di Jawa Timur menggunakan ***content-based filtering***. Untuk memudahkan navigasi gunakan menu *Table of Contents* di kanan atas Google Colaboratory."
      ],
      "metadata": {
        "id": "dzZqO_teSeJu"
      }
    },
    {
      "cell_type": "markdown",
      "source": [
        "# **1. Mengimpor library yang dibutuhkan**"
      ],
      "metadata": {
        "id": "KTghLBc6Sjzd"
      }
    },
    {
      "cell_type": "code",
      "source": [
        "# Untuk pengolahan data\n",
        "import pandas as pd\n",
        "import numpy as np\n"
      ],
      "metadata": {
        "id": "b-Ztah9tSjUr"
      },
      "execution_count": 1,
      "outputs": []
    },
    {
      "cell_type": "markdown",
      "source": [
        "# **2. Mempersiapkan Dataset dan Pemahaman Data** ***(Data Understanding)***"
      ],
      "metadata": {
        "id": "lilTNBX4SnQW"
      }
    },
    {
      "cell_type": "markdown",
      "source": [
        "![Sampul Dataset](https://raw.githubusercontent.com/samuelpakpahan20/Capstone-SIB2021/master/images/sampul.PNG)\n",
        "\n",
        "Informasi Dataset :\n",
        "\n",
        "Jenis | Keterangan\n",
        "--- | ---\n",
        "Sumber | [Kaggle Dataset : Info Tempat Wisata](https://www.kaggle.com/azharianisah/infotempatwisata)\n",
        "Lisensi | CC0: Public Domain\n",
        "Rating Penggunaan | 0.0\n",
        "Jenis dan Ukuran Berkas | zip (46 kB)"
      ],
      "metadata": {
        "id": "pT-YScwuTu-R"
      }
    },
    {
      "cell_type": "markdown",
      "source": [
        "## Memuat Data pada sebuah Dataframe menggunakan *pandas*"
      ],
      "metadata": {
        "id": "g04w3QpiZ2km"
      }
    },
    {
      "cell_type": "code",
      "execution_count": 2,
      "metadata": {
        "id": "oKts1-SqQtUB"
      },
      "outputs": [],
      "source": [
        "# Memuat data pada dataframe di setiap variable\n",
        "wisata = pd.read_excel(\"InfoWisata.xlsx\")\n",
        "rating = pd.read_excel(\"Reviewer.xlsx\")"
      ]
    },
    {
      "cell_type": "code",
      "source": [
        "# Pratinjau dataset wisata\n",
        "wisata.head()"
      ],
      "metadata": {
        "colab": {
          "base_uri": "https://localhost:8080/",
          "height": 206
        },
        "id": "QbYetiMWV4p4",
        "outputId": "70fbb44c-0dfd-44ab-b728-24e2b7f0a459"
      },
      "execution_count": 3,
      "outputs": [
        {
          "output_type": "execute_result",
          "data": {
            "text/html": [
              "<div>\n",
              "<style scoped>\n",
              "    .dataframe tbody tr th:only-of-type {\n",
              "        vertical-align: middle;\n",
              "    }\n",
              "\n",
              "    .dataframe tbody tr th {\n",
              "        vertical-align: top;\n",
              "    }\n",
              "\n",
              "    .dataframe thead th {\n",
              "        text-align: right;\n",
              "    }\n",
              "</style>\n",
              "<table border=\"1\" class=\"dataframe\">\n",
              "  <thead>\n",
              "    <tr style=\"text-align: right;\">\n",
              "      <th></th>\n",
              "      <th>Unnamed: 0</th>\n",
              "      <th>Category</th>\n",
              "      <th>Name</th>\n",
              "      <th>City</th>\n",
              "      <th>Price</th>\n",
              "    </tr>\n",
              "  </thead>\n",
              "  <tbody>\n",
              "    <tr>\n",
              "      <th>0</th>\n",
              "      <td>NaN</td>\n",
              "      <td>Gunung</td>\n",
              "      <td>Arjuna</td>\n",
              "      <td>Malang</td>\n",
              "      <td>Rp. 11.000</td>\n",
              "    </tr>\n",
              "    <tr>\n",
              "      <th>1</th>\n",
              "      <td>NaN</td>\n",
              "      <td>Pantai</td>\n",
              "      <td>Batu bengkung</td>\n",
              "      <td>Malang</td>\n",
              "      <td>Rp. 10.000</td>\n",
              "    </tr>\n",
              "    <tr>\n",
              "      <th>2</th>\n",
              "      <td>NaN</td>\n",
              "      <td>Air Terjun</td>\n",
              "      <td>Coban Rondo</td>\n",
              "      <td>Batu</td>\n",
              "      <td>Rp. 30.000</td>\n",
              "    </tr>\n",
              "    <tr>\n",
              "      <th>3</th>\n",
              "      <td>NaN</td>\n",
              "      <td>Gunung</td>\n",
              "      <td>Bromo</td>\n",
              "      <td>Probolinggo</td>\n",
              "      <td>Rp. 34.000</td>\n",
              "    </tr>\n",
              "    <tr>\n",
              "      <th>4</th>\n",
              "      <td>NaN</td>\n",
              "      <td>Gunung</td>\n",
              "      <td>Ijen</td>\n",
              "      <td>Banyuwangi</td>\n",
              "      <td>Rp. 7.500</td>\n",
              "    </tr>\n",
              "  </tbody>\n",
              "</table>\n",
              "</div>"
            ],
            "text/plain": [
              "   Unnamed: 0    Category           Name          City       Price\n",
              "0         NaN      Gunung          Arjuna       Malang  Rp. 11.000\n",
              "1         NaN      Pantai   Batu bengkung       Malang  Rp. 10.000\n",
              "2         NaN  Air Terjun     Coban Rondo        Batu   Rp. 30.000\n",
              "3         NaN      Gunung           Bromo  Probolinggo  Rp. 34.000\n",
              "4         NaN      Gunung            Ijen   Banyuwangi   Rp. 7.500"
            ]
          },
          "metadata": {},
          "execution_count": 3
        }
      ]
    },
    {
      "cell_type": "code",
      "source": [
        "# Pratinjau dataset rating\n",
        "rating.head()"
      ],
      "metadata": {
        "colab": {
          "base_uri": "https://localhost:8080/",
          "height": 206
        },
        "id": "yKdTqrTJWO5j",
        "outputId": "33717130-4b41-4c2a-9a9d-15cd07ddb279"
      },
      "execution_count": 4,
      "outputs": [
        {
          "output_type": "execute_result",
          "data": {
            "text/html": [
              "<div>\n",
              "<style scoped>\n",
              "    .dataframe tbody tr th:only-of-type {\n",
              "        vertical-align: middle;\n",
              "    }\n",
              "\n",
              "    .dataframe tbody tr th {\n",
              "        vertical-align: top;\n",
              "    }\n",
              "\n",
              "    .dataframe thead th {\n",
              "        text-align: right;\n",
              "    }\n",
              "</style>\n",
              "<table border=\"1\" class=\"dataframe\">\n",
              "  <thead>\n",
              "    <tr style=\"text-align: right;\">\n",
              "      <th></th>\n",
              "      <th>Category</th>\n",
              "      <th>Name</th>\n",
              "      <th>City</th>\n",
              "      <th>Rating</th>\n",
              "      <th>Review</th>\n",
              "    </tr>\n",
              "  </thead>\n",
              "  <tbody>\n",
              "    <tr>\n",
              "      <th>0</th>\n",
              "      <td>Gunung</td>\n",
              "      <td>Arjuna</td>\n",
              "      <td>Malang</td>\n",
              "      <td>4.5</td>\n",
              "      <td>\"jalurnya sangat mendamaikan, dengan pohon-poh...</td>\n",
              "    </tr>\n",
              "    <tr>\n",
              "      <th>1</th>\n",
              "      <td>Pantai</td>\n",
              "      <td>Batu bengkung</td>\n",
              "      <td>Malang</td>\n",
              "      <td>4.5</td>\n",
              "      <td>\"Pantai Batu Bengkung terletak di Kabupaten Ma...</td>\n",
              "    </tr>\n",
              "    <tr>\n",
              "      <th>2</th>\n",
              "      <td>Air Terjun</td>\n",
              "      <td>Coban Rondo</td>\n",
              "      <td>Batu</td>\n",
              "      <td>4.0</td>\n",
              "      <td>\"Tempat menarik. Akses mudah, tempat menarik, ...</td>\n",
              "    </tr>\n",
              "    <tr>\n",
              "      <th>3</th>\n",
              "      <td>Gunung</td>\n",
              "      <td>Bromo</td>\n",
              "      <td>Probolinggo</td>\n",
              "      <td>4.6</td>\n",
              "      <td>\"Gunung yg paling mudah didaki yaa gunung brom...</td>\n",
              "    </tr>\n",
              "    <tr>\n",
              "      <th>4</th>\n",
              "      <td>Gunung</td>\n",
              "      <td>Ijen</td>\n",
              "      <td>Banyuwangi</td>\n",
              "      <td>4.7</td>\n",
              "      <td>\"Akses mendaki cukup mudah, parkir cukup luas,...</td>\n",
              "    </tr>\n",
              "  </tbody>\n",
              "</table>\n",
              "</div>"
            ],
            "text/plain": [
              "    Category   ...                                             Review\n",
              "0      Gunung  ...  \"jalurnya sangat mendamaikan, dengan pohon-poh...\n",
              "1     Pantai   ...  \"Pantai Batu Bengkung terletak di Kabupaten Ma...\n",
              "2  Air Terjun  ...  \"Tempat menarik. Akses mudah, tempat menarik, ...\n",
              "3     Gunung   ...  \"Gunung yg paling mudah didaki yaa gunung brom...\n",
              "4     Gunung   ...  \"Akses mendaki cukup mudah, parkir cukup luas,...\n",
              "\n",
              "[5 rows x 5 columns]"
            ]
          },
          "metadata": {},
          "execution_count": 4
        }
      ]
    },
    {
      "cell_type": "code",
      "source": [
        "# Melihat distribusi rating pada data\n",
        "rating.describe()"
      ],
      "metadata": {
        "colab": {
          "base_uri": "https://localhost:8080/",
          "height": 300
        },
        "id": "za7ZTUiuWWYt",
        "outputId": "59f27f0f-376d-481c-cf81-cf37eba21cc9"
      },
      "execution_count": 5,
      "outputs": [
        {
          "output_type": "execute_result",
          "data": {
            "text/html": [
              "<div>\n",
              "<style scoped>\n",
              "    .dataframe tbody tr th:only-of-type {\n",
              "        vertical-align: middle;\n",
              "    }\n",
              "\n",
              "    .dataframe tbody tr th {\n",
              "        vertical-align: top;\n",
              "    }\n",
              "\n",
              "    .dataframe thead th {\n",
              "        text-align: right;\n",
              "    }\n",
              "</style>\n",
              "<table border=\"1\" class=\"dataframe\">\n",
              "  <thead>\n",
              "    <tr style=\"text-align: right;\">\n",
              "      <th></th>\n",
              "      <th>Rating</th>\n",
              "    </tr>\n",
              "  </thead>\n",
              "  <tbody>\n",
              "    <tr>\n",
              "      <th>count</th>\n",
              "      <td>100.000000</td>\n",
              "    </tr>\n",
              "    <tr>\n",
              "      <th>mean</th>\n",
              "      <td>4.328000</td>\n",
              "    </tr>\n",
              "    <tr>\n",
              "      <th>std</th>\n",
              "      <td>0.287827</td>\n",
              "    </tr>\n",
              "    <tr>\n",
              "      <th>min</th>\n",
              "      <td>3.500000</td>\n",
              "    </tr>\n",
              "    <tr>\n",
              "      <th>25%</th>\n",
              "      <td>4.100000</td>\n",
              "    </tr>\n",
              "    <tr>\n",
              "      <th>50%</th>\n",
              "      <td>4.400000</td>\n",
              "    </tr>\n",
              "    <tr>\n",
              "      <th>75%</th>\n",
              "      <td>4.500000</td>\n",
              "    </tr>\n",
              "    <tr>\n",
              "      <th>max</th>\n",
              "      <td>5.000000</td>\n",
              "    </tr>\n",
              "  </tbody>\n",
              "</table>\n",
              "</div>"
            ],
            "text/plain": [
              "           Rating\n",
              "count  100.000000\n",
              "mean     4.328000\n",
              "std      0.287827\n",
              "min      3.500000\n",
              "25%      4.100000\n",
              "50%      4.400000\n",
              "75%      4.500000\n",
              "max      5.000000"
            ]
          },
          "metadata": {},
          "execution_count": 5
        }
      ]
    },
    {
      "cell_type": "markdown",
      "source": [
        "Dari output di atas, diketahui bahwa nilai maksimum rating adalah 5 dan nilai minimumnya adalah 3.5. Artinya, skala rating berkisar antara 3.5 hingga 5. "
      ],
      "metadata": {
        "id": "geZHyU62eEks"
      }
    },
    {
      "cell_type": "markdown",
      "source": [
        "# **3. Data Preprocessing**"
      ],
      "metadata": {
        "id": "Ahg0DqiTZW6j"
      }
    },
    {
      "cell_type": "markdown",
      "source": [
        "## Menggabungkan Data Tempat Wisata dengan Data Rating\n",
        "Tujuannya, agar dapat lebih mudah melihat rating pengguna terhadap suatu tempat wisata."
      ],
      "metadata": {
        "id": "0U_tcIeWaNYv"
      }
    },
    {
      "cell_type": "code",
      "source": [
        "all_wisata = pd.concat([wisata,rating[['Rating','Review']]], axis=1)\n",
        "all_wisata"
      ],
      "metadata": {
        "id": "QapJejbgKpBR",
        "outputId": "9a36a17b-cf28-43c2-bf32-8689f99d5dfb",
        "colab": {
          "base_uri": "https://localhost:8080/",
          "height": 424
        }
      },
      "execution_count": 6,
      "outputs": [
        {
          "output_type": "execute_result",
          "data": {
            "text/html": [
              "<div>\n",
              "<style scoped>\n",
              "    .dataframe tbody tr th:only-of-type {\n",
              "        vertical-align: middle;\n",
              "    }\n",
              "\n",
              "    .dataframe tbody tr th {\n",
              "        vertical-align: top;\n",
              "    }\n",
              "\n",
              "    .dataframe thead th {\n",
              "        text-align: right;\n",
              "    }\n",
              "</style>\n",
              "<table border=\"1\" class=\"dataframe\">\n",
              "  <thead>\n",
              "    <tr style=\"text-align: right;\">\n",
              "      <th></th>\n",
              "      <th>Unnamed: 0</th>\n",
              "      <th>Category</th>\n",
              "      <th>Name</th>\n",
              "      <th>City</th>\n",
              "      <th>Price</th>\n",
              "      <th>Rating</th>\n",
              "      <th>Review</th>\n",
              "    </tr>\n",
              "  </thead>\n",
              "  <tbody>\n",
              "    <tr>\n",
              "      <th>0</th>\n",
              "      <td>NaN</td>\n",
              "      <td>Gunung</td>\n",
              "      <td>Arjuna</td>\n",
              "      <td>Malang</td>\n",
              "      <td>Rp. 11.000</td>\n",
              "      <td>4.5</td>\n",
              "      <td>\"jalurnya sangat mendamaikan, dengan pohon-poh...</td>\n",
              "    </tr>\n",
              "    <tr>\n",
              "      <th>1</th>\n",
              "      <td>NaN</td>\n",
              "      <td>Pantai</td>\n",
              "      <td>Batu bengkung</td>\n",
              "      <td>Malang</td>\n",
              "      <td>Rp. 10.000</td>\n",
              "      <td>4.5</td>\n",
              "      <td>\"Pantai Batu Bengkung terletak di Kabupaten Ma...</td>\n",
              "    </tr>\n",
              "    <tr>\n",
              "      <th>2</th>\n",
              "      <td>NaN</td>\n",
              "      <td>Air Terjun</td>\n",
              "      <td>Coban Rondo</td>\n",
              "      <td>Batu</td>\n",
              "      <td>Rp. 30.000</td>\n",
              "      <td>4.0</td>\n",
              "      <td>\"Tempat menarik. Akses mudah, tempat menarik, ...</td>\n",
              "    </tr>\n",
              "    <tr>\n",
              "      <th>3</th>\n",
              "      <td>NaN</td>\n",
              "      <td>Gunung</td>\n",
              "      <td>Bromo</td>\n",
              "      <td>Probolinggo</td>\n",
              "      <td>Rp. 34.000</td>\n",
              "      <td>4.6</td>\n",
              "      <td>\"Gunung yg paling mudah didaki yaa gunung brom...</td>\n",
              "    </tr>\n",
              "    <tr>\n",
              "      <th>4</th>\n",
              "      <td>NaN</td>\n",
              "      <td>Gunung</td>\n",
              "      <td>Ijen</td>\n",
              "      <td>Banyuwangi</td>\n",
              "      <td>Rp. 7.500</td>\n",
              "      <td>4.7</td>\n",
              "      <td>\"Akses mendaki cukup mudah, parkir cukup luas,...</td>\n",
              "    </tr>\n",
              "    <tr>\n",
              "      <th>...</th>\n",
              "      <td>...</td>\n",
              "      <td>...</td>\n",
              "      <td>...</td>\n",
              "      <td>...</td>\n",
              "      <td>...</td>\n",
              "      <td>...</td>\n",
              "      <td>...</td>\n",
              "    </tr>\n",
              "    <tr>\n",
              "      <th>95</th>\n",
              "      <td>NaN</td>\n",
              "      <td>Museum</td>\n",
              "      <td>Trinil</td>\n",
              "      <td>Ngawi</td>\n",
              "      <td>Rp. 3.000</td>\n",
              "      <td>4.2</td>\n",
              "      <td>\"Sangat bagus untuk anak-anak, karena memiliki...</td>\n",
              "    </tr>\n",
              "    <tr>\n",
              "      <th>96</th>\n",
              "      <td>NaN</td>\n",
              "      <td>Gunung</td>\n",
              "      <td>Gumitir</td>\n",
              "      <td>Probolinggo</td>\n",
              "      <td>Rp. 34.000</td>\n",
              "      <td>4.4</td>\n",
              "      <td>\"Bagus sih tapi ati ati lho kalau kesana soaln...</td>\n",
              "    </tr>\n",
              "    <tr>\n",
              "      <th>97</th>\n",
              "      <td>NaN</td>\n",
              "      <td>Museum</td>\n",
              "      <td>Trowulan</td>\n",
              "      <td>Mojokerto</td>\n",
              "      <td>Rp. 5.000</td>\n",
              "      <td>4.4</td>\n",
              "      <td>\"Anda TIDAK DAPAT mengambil foto dari setiap o...</td>\n",
              "    </tr>\n",
              "    <tr>\n",
              "      <th>98</th>\n",
              "      <td>NaN</td>\n",
              "      <td>Air Terjun</td>\n",
              "      <td>Watu Gedhek</td>\n",
              "      <td>Mojokerto</td>\n",
              "      <td>Rp. 5.000</td>\n",
              "      <td>4.3</td>\n",
              "      <td>\"Ini adalah tempat yang asyik untuk dijelajahi...</td>\n",
              "    </tr>\n",
              "    <tr>\n",
              "      <th>99</th>\n",
              "      <td>NaN</td>\n",
              "      <td>Museum</td>\n",
              "      <td>Mpu Purwa</td>\n",
              "      <td>Malang</td>\n",
              "      <td>Gratis</td>\n",
              "      <td>4.5</td>\n",
              "      <td>\"Berlokasi di Malang. Tidak ada tiket masuk, t...</td>\n",
              "    </tr>\n",
              "  </tbody>\n",
              "</table>\n",
              "<p>100 rows × 7 columns</p>\n",
              "</div>"
            ],
            "text/plain": [
              "    Unnamed: 0  ...                                             Review\n",
              "0          NaN  ...  \"jalurnya sangat mendamaikan, dengan pohon-poh...\n",
              "1          NaN  ...  \"Pantai Batu Bengkung terletak di Kabupaten Ma...\n",
              "2          NaN  ...  \"Tempat menarik. Akses mudah, tempat menarik, ...\n",
              "3          NaN  ...  \"Gunung yg paling mudah didaki yaa gunung brom...\n",
              "4          NaN  ...  \"Akses mendaki cukup mudah, parkir cukup luas,...\n",
              "..         ...  ...                                                ...\n",
              "95         NaN  ...  \"Sangat bagus untuk anak-anak, karena memiliki...\n",
              "96         NaN  ...  \"Bagus sih tapi ati ati lho kalau kesana soaln...\n",
              "97         NaN  ...  \"Anda TIDAK DAPAT mengambil foto dari setiap o...\n",
              "98         NaN  ...  \"Ini adalah tempat yang asyik untuk dijelajahi...\n",
              "99         NaN  ...  \"Berlokasi di Malang. Tidak ada tiket masuk, t...\n",
              "\n",
              "[100 rows x 7 columns]"
            ]
          },
          "metadata": {},
          "execution_count": 6
        }
      ]
    },
    {
      "cell_type": "markdown",
      "source": [
        "# **4. Persiapan Data** ***(Data Preparation)***"
      ],
      "metadata": {
        "id": "OKH-f9vYY_xc"
      }
    },
    {
      "cell_type": "markdown",
      "source": [
        "## 4.1 Menghapus kolom yang tidak diperlukan\n",
        "Dari pratinjau diatas, dapat dilihat bahwa kolom `Unnamed: 0` dari awal sudah ada dan kolom ini tidak berhubungan sama projek ini, maka perlu dihapus dengan teknik `drop`."
      ],
      "metadata": {
        "id": "kdaQGI1cOzdl"
      }
    },
    {
      "cell_type": "code",
      "source": [
        "all_wisata_clean = all_wisata.drop(columns = ['Unnamed: 0'])\n",
        "all_wisata_clean.head()"
      ],
      "metadata": {
        "id": "BSG9kVbPPC3E",
        "outputId": "de07edb7-6ba6-4123-e3ce-d9134f3208f2",
        "colab": {
          "base_uri": "https://localhost:8080/",
          "height": 206
        }
      },
      "execution_count": 7,
      "outputs": [
        {
          "output_type": "execute_result",
          "data": {
            "text/html": [
              "<div>\n",
              "<style scoped>\n",
              "    .dataframe tbody tr th:only-of-type {\n",
              "        vertical-align: middle;\n",
              "    }\n",
              "\n",
              "    .dataframe tbody tr th {\n",
              "        vertical-align: top;\n",
              "    }\n",
              "\n",
              "    .dataframe thead th {\n",
              "        text-align: right;\n",
              "    }\n",
              "</style>\n",
              "<table border=\"1\" class=\"dataframe\">\n",
              "  <thead>\n",
              "    <tr style=\"text-align: right;\">\n",
              "      <th></th>\n",
              "      <th>Category</th>\n",
              "      <th>Name</th>\n",
              "      <th>City</th>\n",
              "      <th>Price</th>\n",
              "      <th>Rating</th>\n",
              "      <th>Review</th>\n",
              "    </tr>\n",
              "  </thead>\n",
              "  <tbody>\n",
              "    <tr>\n",
              "      <th>0</th>\n",
              "      <td>Gunung</td>\n",
              "      <td>Arjuna</td>\n",
              "      <td>Malang</td>\n",
              "      <td>Rp. 11.000</td>\n",
              "      <td>4.5</td>\n",
              "      <td>\"jalurnya sangat mendamaikan, dengan pohon-poh...</td>\n",
              "    </tr>\n",
              "    <tr>\n",
              "      <th>1</th>\n",
              "      <td>Pantai</td>\n",
              "      <td>Batu bengkung</td>\n",
              "      <td>Malang</td>\n",
              "      <td>Rp. 10.000</td>\n",
              "      <td>4.5</td>\n",
              "      <td>\"Pantai Batu Bengkung terletak di Kabupaten Ma...</td>\n",
              "    </tr>\n",
              "    <tr>\n",
              "      <th>2</th>\n",
              "      <td>Air Terjun</td>\n",
              "      <td>Coban Rondo</td>\n",
              "      <td>Batu</td>\n",
              "      <td>Rp. 30.000</td>\n",
              "      <td>4.0</td>\n",
              "      <td>\"Tempat menarik. Akses mudah, tempat menarik, ...</td>\n",
              "    </tr>\n",
              "    <tr>\n",
              "      <th>3</th>\n",
              "      <td>Gunung</td>\n",
              "      <td>Bromo</td>\n",
              "      <td>Probolinggo</td>\n",
              "      <td>Rp. 34.000</td>\n",
              "      <td>4.6</td>\n",
              "      <td>\"Gunung yg paling mudah didaki yaa gunung brom...</td>\n",
              "    </tr>\n",
              "    <tr>\n",
              "      <th>4</th>\n",
              "      <td>Gunung</td>\n",
              "      <td>Ijen</td>\n",
              "      <td>Banyuwangi</td>\n",
              "      <td>Rp. 7.500</td>\n",
              "      <td>4.7</td>\n",
              "      <td>\"Akses mendaki cukup mudah, parkir cukup luas,...</td>\n",
              "    </tr>\n",
              "  </tbody>\n",
              "</table>\n",
              "</div>"
            ],
            "text/plain": [
              "     Category   ...                                             Review\n",
              "0      Gunung   ...  \"jalurnya sangat mendamaikan, dengan pohon-poh...\n",
              "1      Pantai   ...  \"Pantai Batu Bengkung terletak di Kabupaten Ma...\n",
              "2  Air Terjun   ...  \"Tempat menarik. Akses mudah, tempat menarik, ...\n",
              "3      Gunung   ...  \"Gunung yg paling mudah didaki yaa gunung brom...\n",
              "4      Gunung   ...  \"Akses mendaki cukup mudah, parkir cukup luas,...\n",
              "\n",
              "[5 rows x 6 columns]"
            ]
          },
          "metadata": {},
          "execution_count": 7
        }
      ]
    },
    {
      "cell_type": "markdown",
      "source": [
        "## 4.2 Menangani Missing Value"
      ],
      "metadata": {
        "id": "vmCreRN3RdiM"
      }
    },
    {
      "cell_type": "code",
      "source": [
        "# Mengecek missing value pada dataframe all_wisata_clean\n",
        "all_wisata_clean.isnull().sum()"
      ],
      "metadata": {
        "id": "cSCp7F2iZsZ4",
        "outputId": "cfd76dce-40f5-498f-d8e9-e0fa9de83628",
        "colab": {
          "base_uri": "https://localhost:8080/"
        }
      },
      "execution_count": 8,
      "outputs": [
        {
          "output_type": "execute_result",
          "data": {
            "text/plain": [
              "Category     0\n",
              "Name         0\n",
              "City         0\n",
              "Price        0\n",
              "Rating       0\n",
              "Review       0\n",
              "dtype: int64"
            ]
          },
          "metadata": {},
          "execution_count": 8
        }
      ]
    },
    {
      "cell_type": "markdown",
      "source": [
        "## 4.3 Menyamakan Kategori Tempat Wisata\n",
        "Sebelum masuk tahap akhir (pemodelan), lakukan penyamaan nama kategori tempat wisata. Kadang, tempat wisata yang sama memiliki kategori yang berbeda. Jika dibiarkan, hal ini bisa menyebabkan bias pada data.\n",
        "\n",
        "Pertama, cek ulang data setelah proses cleaning pada tahap sebelumnya. Buat variabel baru bernama `fix_wisata` untuk menyimpan dataframe."
      ],
      "metadata": {
        "id": "W4bmzOsBpwuW"
      }
    },
    {
      "cell_type": "code",
      "source": [
        "fix_wisata = all_wisata_clean\n",
        "fix_wisata"
      ],
      "metadata": {
        "colab": {
          "base_uri": "https://localhost:8080/",
          "height": 424
        },
        "id": "173jrll8qolt",
        "outputId": "4e9e43e8-55c9-4d81-b73e-a68d42b5de3b"
      },
      "execution_count": 9,
      "outputs": [
        {
          "output_type": "execute_result",
          "data": {
            "text/html": [
              "<div>\n",
              "<style scoped>\n",
              "    .dataframe tbody tr th:only-of-type {\n",
              "        vertical-align: middle;\n",
              "    }\n",
              "\n",
              "    .dataframe tbody tr th {\n",
              "        vertical-align: top;\n",
              "    }\n",
              "\n",
              "    .dataframe thead th {\n",
              "        text-align: right;\n",
              "    }\n",
              "</style>\n",
              "<table border=\"1\" class=\"dataframe\">\n",
              "  <thead>\n",
              "    <tr style=\"text-align: right;\">\n",
              "      <th></th>\n",
              "      <th>Category</th>\n",
              "      <th>Name</th>\n",
              "      <th>City</th>\n",
              "      <th>Price</th>\n",
              "      <th>Rating</th>\n",
              "      <th>Review</th>\n",
              "    </tr>\n",
              "  </thead>\n",
              "  <tbody>\n",
              "    <tr>\n",
              "      <th>0</th>\n",
              "      <td>Gunung</td>\n",
              "      <td>Arjuna</td>\n",
              "      <td>Malang</td>\n",
              "      <td>Rp. 11.000</td>\n",
              "      <td>4.5</td>\n",
              "      <td>\"jalurnya sangat mendamaikan, dengan pohon-poh...</td>\n",
              "    </tr>\n",
              "    <tr>\n",
              "      <th>1</th>\n",
              "      <td>Pantai</td>\n",
              "      <td>Batu bengkung</td>\n",
              "      <td>Malang</td>\n",
              "      <td>Rp. 10.000</td>\n",
              "      <td>4.5</td>\n",
              "      <td>\"Pantai Batu Bengkung terletak di Kabupaten Ma...</td>\n",
              "    </tr>\n",
              "    <tr>\n",
              "      <th>2</th>\n",
              "      <td>Air Terjun</td>\n",
              "      <td>Coban Rondo</td>\n",
              "      <td>Batu</td>\n",
              "      <td>Rp. 30.000</td>\n",
              "      <td>4.0</td>\n",
              "      <td>\"Tempat menarik. Akses mudah, tempat menarik, ...</td>\n",
              "    </tr>\n",
              "    <tr>\n",
              "      <th>3</th>\n",
              "      <td>Gunung</td>\n",
              "      <td>Bromo</td>\n",
              "      <td>Probolinggo</td>\n",
              "      <td>Rp. 34.000</td>\n",
              "      <td>4.6</td>\n",
              "      <td>\"Gunung yg paling mudah didaki yaa gunung brom...</td>\n",
              "    </tr>\n",
              "    <tr>\n",
              "      <th>4</th>\n",
              "      <td>Gunung</td>\n",
              "      <td>Ijen</td>\n",
              "      <td>Banyuwangi</td>\n",
              "      <td>Rp. 7.500</td>\n",
              "      <td>4.7</td>\n",
              "      <td>\"Akses mendaki cukup mudah, parkir cukup luas,...</td>\n",
              "    </tr>\n",
              "    <tr>\n",
              "      <th>...</th>\n",
              "      <td>...</td>\n",
              "      <td>...</td>\n",
              "      <td>...</td>\n",
              "      <td>...</td>\n",
              "      <td>...</td>\n",
              "      <td>...</td>\n",
              "    </tr>\n",
              "    <tr>\n",
              "      <th>95</th>\n",
              "      <td>Museum</td>\n",
              "      <td>Trinil</td>\n",
              "      <td>Ngawi</td>\n",
              "      <td>Rp. 3.000</td>\n",
              "      <td>4.2</td>\n",
              "      <td>\"Sangat bagus untuk anak-anak, karena memiliki...</td>\n",
              "    </tr>\n",
              "    <tr>\n",
              "      <th>96</th>\n",
              "      <td>Gunung</td>\n",
              "      <td>Gumitir</td>\n",
              "      <td>Probolinggo</td>\n",
              "      <td>Rp. 34.000</td>\n",
              "      <td>4.4</td>\n",
              "      <td>\"Bagus sih tapi ati ati lho kalau kesana soaln...</td>\n",
              "    </tr>\n",
              "    <tr>\n",
              "      <th>97</th>\n",
              "      <td>Museum</td>\n",
              "      <td>Trowulan</td>\n",
              "      <td>Mojokerto</td>\n",
              "      <td>Rp. 5.000</td>\n",
              "      <td>4.4</td>\n",
              "      <td>\"Anda TIDAK DAPAT mengambil foto dari setiap o...</td>\n",
              "    </tr>\n",
              "    <tr>\n",
              "      <th>98</th>\n",
              "      <td>Air Terjun</td>\n",
              "      <td>Watu Gedhek</td>\n",
              "      <td>Mojokerto</td>\n",
              "      <td>Rp. 5.000</td>\n",
              "      <td>4.3</td>\n",
              "      <td>\"Ini adalah tempat yang asyik untuk dijelajahi...</td>\n",
              "    </tr>\n",
              "    <tr>\n",
              "      <th>99</th>\n",
              "      <td>Museum</td>\n",
              "      <td>Mpu Purwa</td>\n",
              "      <td>Malang</td>\n",
              "      <td>Gratis</td>\n",
              "      <td>4.5</td>\n",
              "      <td>\"Berlokasi di Malang. Tidak ada tiket masuk, t...</td>\n",
              "    </tr>\n",
              "  </tbody>\n",
              "</table>\n",
              "<p>100 rows × 6 columns</p>\n",
              "</div>"
            ],
            "text/plain": [
              "      Category   ...                                             Review\n",
              "0       Gunung   ...  \"jalurnya sangat mendamaikan, dengan pohon-poh...\n",
              "1       Pantai   ...  \"Pantai Batu Bengkung terletak di Kabupaten Ma...\n",
              "2   Air Terjun   ...  \"Tempat menarik. Akses mudah, tempat menarik, ...\n",
              "3       Gunung   ...  \"Gunung yg paling mudah didaki yaa gunung brom...\n",
              "4       Gunung   ...  \"Akses mendaki cukup mudah, parkir cukup luas,...\n",
              "..          ...  ...                                                ...\n",
              "95       Museum  ...  \"Sangat bagus untuk anak-anak, karena memiliki...\n",
              "96      Gunung   ...  \"Bagus sih tapi ati ati lho kalau kesana soaln...\n",
              "97       Museum  ...  \"Anda TIDAK DAPAT mengambil foto dari setiap o...\n",
              "98   Air Terjun  ...  \"Ini adalah tempat yang asyik untuk dijelajahi...\n",
              "99       Museum  ...  \"Berlokasi di Malang. Tidak ada tiket masuk, t...\n",
              "\n",
              "[100 rows x 6 columns]"
            ]
          },
          "metadata": {},
          "execution_count": 9
        }
      ]
    },
    {
      "cell_type": "markdown",
      "source": [
        "Selanjutnya, cek kolom `Category` (kategori tempat wisata) yang unik"
      ],
      "metadata": {
        "id": "8uzlhIsZq22N"
      }
    },
    {
      "cell_type": "code",
      "source": [
        "fix_wisata['Category '].unique()"
      ],
      "metadata": {
        "colab": {
          "base_uri": "https://localhost:8080/"
        },
        "id": "kSzy43eghW4b",
        "outputId": "e174bdce-5a3c-48b7-d906-28674a034550"
      },
      "execution_count": 10,
      "outputs": [
        {
          "output_type": "execute_result",
          "data": {
            "text/plain": [
              "array(['Gunung ', 'Pantai ', 'Air Terjun ', 'Taman Hiburan ', 'Museum',\n",
              "       'Air Terjun', 'Museum ', 'Telaga'], dtype=object)"
            ]
          },
          "metadata": {},
          "execution_count": 10
        }
      ]
    },
    {
      "cell_type": "markdown",
      "source": [
        "Perhatikanlah, di antara semua kategori tempat wisata pada data, ada kategori yang menjadi 2 (duplikat), yaitu kategori tempat wisata bernama `Air Terjun` dan `Museum`. Jika dilihat dengan seksama, yang membedakan kategori tersebut adalah terdapat spasi di akhir katanya.\n",
        "Hal-hal seperti ini kadang dapat ditemukan pada data. Penyebabnya bisa beragam, misalnya, kesalahan input data. Jika menemukan data seperti ini, hal yang perlu dilakukan adalah mengeksplorasi datanya lebih lanjut dan melakukan analisis. \n",
        "\n",
        "Dari proses analisis, kita akan memahami perbedaan penamaan ini terjadi pada data mana saja dan apa yang bisa kita lakukan untuk mengatasinya. Tentu solusi untuk permasalahan seperti ini akan berbeda tergantung kasusnya. Untuk kasus pada proyek ini, kita akan memilih salah satu penamaan kategori saja untuk digunakan pada data dan mengganti nama kategorinya menjadi tanpa spasi."
      ],
      "metadata": {
        "id": "ItzYbTHCqmwh"
      }
    },
    {
      "cell_type": "code",
      "source": [
        "# Mengecek kategori tempat wisata Air Terjun (tanpa spasi)\n",
        "fix_wisata[fix_wisata['Category '] == 'Air Terjun']"
      ],
      "metadata": {
        "colab": {
          "base_uri": "https://localhost:8080/",
          "height": 708
        },
        "id": "Tw_CiYI0iAni",
        "outputId": "c5da6e71-d4be-4daa-d3b0-5ec76c116b3b"
      },
      "execution_count": 11,
      "outputs": [
        {
          "output_type": "execute_result",
          "data": {
            "text/html": [
              "<div>\n",
              "<style scoped>\n",
              "    .dataframe tbody tr th:only-of-type {\n",
              "        vertical-align: middle;\n",
              "    }\n",
              "\n",
              "    .dataframe tbody tr th {\n",
              "        vertical-align: top;\n",
              "    }\n",
              "\n",
              "    .dataframe thead th {\n",
              "        text-align: right;\n",
              "    }\n",
              "</style>\n",
              "<table border=\"1\" class=\"dataframe\">\n",
              "  <thead>\n",
              "    <tr style=\"text-align: right;\">\n",
              "      <th></th>\n",
              "      <th>Category</th>\n",
              "      <th>Name</th>\n",
              "      <th>City</th>\n",
              "      <th>Price</th>\n",
              "      <th>Rating</th>\n",
              "      <th>Review</th>\n",
              "    </tr>\n",
              "  </thead>\n",
              "  <tbody>\n",
              "    <tr>\n",
              "      <th>24</th>\n",
              "      <td>Air Terjun</td>\n",
              "      <td>Madakaripura</td>\n",
              "      <td>Probolinggo</td>\n",
              "      <td>Rp. 11.000</td>\n",
              "      <td>4.5</td>\n",
              "      <td>\"Bagus bangettttttt. Kesana mending naik ojek ...</td>\n",
              "    </tr>\n",
              "    <tr>\n",
              "      <th>29</th>\n",
              "      <td>Air Terjun</td>\n",
              "      <td>Coban Sewu</td>\n",
              "      <td>Lumajang, Malang</td>\n",
              "      <td>Rp. 10.000</td>\n",
              "      <td>4.3</td>\n",
              "      <td>\"Air terjun termudah tracknya ... Dari jalan r...</td>\n",
              "    </tr>\n",
              "    <tr>\n",
              "      <th>30</th>\n",
              "      <td>Air Terjun</td>\n",
              "      <td>Coban Pelangi</td>\n",
              "      <td>Malang</td>\n",
              "      <td>Rp. 10.000</td>\n",
              "      <td>4.5</td>\n",
              "      <td>\"karna ada beberapa spot foto disana perlu dip...</td>\n",
              "    </tr>\n",
              "    <tr>\n",
              "      <th>31</th>\n",
              "      <td>Air Terjun</td>\n",
              "      <td>Coban Kapas Biru</td>\n",
              "      <td>Lumajang</td>\n",
              "      <td>Rp. 7000</td>\n",
              "      <td>4.6</td>\n",
              "      <td>\"Air terjun kapas biru Viewnya manteup banget....</td>\n",
              "    </tr>\n",
              "    <tr>\n",
              "      <th>34</th>\n",
              "      <td>Air Terjun</td>\n",
              "      <td>Kembar Arum</td>\n",
              "      <td>Banyuwangi</td>\n",
              "      <td>Gratis</td>\n",
              "      <td>4.4</td>\n",
              "      <td>\"Sangat bagus untuk acara liburan keluarga. Ka...</td>\n",
              "    </tr>\n",
              "    <tr>\n",
              "      <th>38</th>\n",
              "      <td>Air Terjun</td>\n",
              "      <td>Sriti</td>\n",
              "      <td>Lumajang</td>\n",
              "      <td>Gratis</td>\n",
              "      <td>4.6</td>\n",
              "      <td>\"Air terjun istimewa, dgn perjuangan untuk tre...</td>\n",
              "    </tr>\n",
              "    <tr>\n",
              "      <th>39</th>\n",
              "      <td>Air Terjun</td>\n",
              "      <td>Nglirip</td>\n",
              "      <td>Tuban</td>\n",
              "      <td>Rp. 5.000</td>\n",
              "      <td>5.0</td>\n",
              "      <td>\"Lokasinya sangat mudah dijangkau. Hanya turun...</td>\n",
              "    </tr>\n",
              "    <tr>\n",
              "      <th>40</th>\n",
              "      <td>Air Terjun</td>\n",
              "      <td>Sumber Maron</td>\n",
              "      <td>Malang</td>\n",
              "      <td>Rp. 5.000</td>\n",
              "      <td>4.0</td>\n",
              "      <td>\"Tempat renang alami, airnya segar, parkirnya ...</td>\n",
              "    </tr>\n",
              "    <tr>\n",
              "      <th>43</th>\n",
              "      <td>Air Terjun</td>\n",
              "      <td>Dlundung</td>\n",
              "      <td>Mojokerto</td>\n",
              "      <td>Rp. 13.000</td>\n",
              "      <td>4.5</td>\n",
              "      <td>\"Sangat nyaman bgt cocok bgt untuk brlibur brs...</td>\n",
              "    </tr>\n",
              "    <tr>\n",
              "      <th>53</th>\n",
              "      <td>Air Terjun</td>\n",
              "      <td>Tumpak Sewu</td>\n",
              "      <td>Lumajang</td>\n",
              "      <td>Rp. 10.000</td>\n",
              "      <td>4.7</td>\n",
              "      <td>\"Ini mungkin salah satu air terjun terindah di...</td>\n",
              "    </tr>\n",
              "    <tr>\n",
              "      <th>54</th>\n",
              "      <td>Air Terjun</td>\n",
              "      <td>Coban Ciblungan</td>\n",
              "      <td>Malang</td>\n",
              "      <td>Rp. 5.000</td>\n",
              "      <td>4.4</td>\n",
              "      <td>\"Air terjun ini merupakan salah satu air terju...</td>\n",
              "    </tr>\n",
              "    <tr>\n",
              "      <th>55</th>\n",
              "      <td>Air Terjun</td>\n",
              "      <td>Jagir</td>\n",
              "      <td>Banyuwangi</td>\n",
              "      <td>Rp. 5.000</td>\n",
              "      <td>4.3</td>\n",
              "      <td>\"Tangga menuju air terjun sudah diperbaiki, ja...</td>\n",
              "    </tr>\n",
              "    <tr>\n",
              "      <th>56</th>\n",
              "      <td>Air Terjun</td>\n",
              "      <td>Sumber Pitu Tumpang</td>\n",
              "      <td>Malang</td>\n",
              "      <td>Rp. 5.000</td>\n",
              "      <td>4.4</td>\n",
              "      <td>\"Track yang bagus untuk latihan cross country ...</td>\n",
              "    </tr>\n",
              "    <tr>\n",
              "      <th>57</th>\n",
              "      <td>Air Terjun</td>\n",
              "      <td>Sumber Pitu Pujon</td>\n",
              "      <td>Malang</td>\n",
              "      <td>Rp. 10.000</td>\n",
              "      <td>4.5</td>\n",
              "      <td>\"Jalan masuk ke parkiran cukup menantang utk p...</td>\n",
              "    </tr>\n",
              "    <tr>\n",
              "      <th>70</th>\n",
              "      <td>Air Terjun</td>\n",
              "      <td>Putuk Truno</td>\n",
              "      <td>Pasuruan</td>\n",
              "      <td>Rp. 5.000</td>\n",
              "      <td>4.0</td>\n",
              "      <td>\"Air terjun puthuk truno terletak di tretes ti...</td>\n",
              "    </tr>\n",
              "    <tr>\n",
              "      <th>71</th>\n",
              "      <td>Air Terjun</td>\n",
              "      <td>Toroan</td>\n",
              "      <td>Sampang</td>\n",
              "      <td>Rp. 10.000</td>\n",
              "      <td>4.0</td>\n",
              "      <td>\"Harganya juga murah cuma biaya parkir aja 10 ...</td>\n",
              "    </tr>\n",
              "    <tr>\n",
              "      <th>72</th>\n",
              "      <td>Air Terjun</td>\n",
              "      <td>Kakek Bodo</td>\n",
              "      <td>Pasuruan</td>\n",
              "      <td>Rp. 25.000</td>\n",
              "      <td>4.3</td>\n",
              "      <td>\"tempat wisata yang bagus dan indah di Tretes,...</td>\n",
              "    </tr>\n",
              "    <tr>\n",
              "      <th>91</th>\n",
              "      <td>Air Terjun</td>\n",
              "      <td>Coban Putri</td>\n",
              "      <td>Batu</td>\n",
              "      <td>Rp. 10.000</td>\n",
              "      <td>4.4</td>\n",
              "      <td>\"Tempat yang bagus untuk bersantai, pemandanga...</td>\n",
              "    </tr>\n",
              "    <tr>\n",
              "      <th>92</th>\n",
              "      <td>Air Terjun</td>\n",
              "      <td>Cuban Canggu</td>\n",
              "      <td>Mojokerto</td>\n",
              "      <td>Rp. 10.000</td>\n",
              "      <td>4.3</td>\n",
              "      <td>\"sejukk suasananya .. airnya dingin bgt uhh\\n1...</td>\n",
              "    </tr>\n",
              "    <tr>\n",
              "      <th>93</th>\n",
              "      <td>Air Terjun</td>\n",
              "      <td>Goa Putih</td>\n",
              "      <td>Mojokerto</td>\n",
              "      <td>Rp. 7000</td>\n",
              "      <td>4.3</td>\n",
              "      <td>\"Tempatnya alami 😍 HTM Free, tapi sayangnya ad...</td>\n",
              "    </tr>\n",
              "    <tr>\n",
              "      <th>98</th>\n",
              "      <td>Air Terjun</td>\n",
              "      <td>Watu Gedhek</td>\n",
              "      <td>Mojokerto</td>\n",
              "      <td>Rp. 5.000</td>\n",
              "      <td>4.3</td>\n",
              "      <td>\"Ini adalah tempat yang asyik untuk dijelajahi...</td>\n",
              "    </tr>\n",
              "  </tbody>\n",
              "</table>\n",
              "</div>"
            ],
            "text/plain": [
              "     Category   ...                                             Review\n",
              "24  Air Terjun  ...  \"Bagus bangettttttt. Kesana mending naik ojek ...\n",
              "29  Air Terjun  ...  \"Air terjun termudah tracknya ... Dari jalan r...\n",
              "30  Air Terjun  ...  \"karna ada beberapa spot foto disana perlu dip...\n",
              "31  Air Terjun  ...  \"Air terjun kapas biru Viewnya manteup banget....\n",
              "34  Air Terjun  ...  \"Sangat bagus untuk acara liburan keluarga. Ka...\n",
              "38  Air Terjun  ...  \"Air terjun istimewa, dgn perjuangan untuk tre...\n",
              "39  Air Terjun  ...  \"Lokasinya sangat mudah dijangkau. Hanya turun...\n",
              "40  Air Terjun  ...  \"Tempat renang alami, airnya segar, parkirnya ...\n",
              "43  Air Terjun  ...  \"Sangat nyaman bgt cocok bgt untuk brlibur brs...\n",
              "53  Air Terjun  ...  \"Ini mungkin salah satu air terjun terindah di...\n",
              "54  Air Terjun  ...  \"Air terjun ini merupakan salah satu air terju...\n",
              "55  Air Terjun  ...  \"Tangga menuju air terjun sudah diperbaiki, ja...\n",
              "56  Air Terjun  ...  \"Track yang bagus untuk latihan cross country ...\n",
              "57  Air Terjun  ...  \"Jalan masuk ke parkiran cukup menantang utk p...\n",
              "70  Air Terjun  ...  \"Air terjun puthuk truno terletak di tretes ti...\n",
              "71  Air Terjun  ...  \"Harganya juga murah cuma biaya parkir aja 10 ...\n",
              "72  Air Terjun  ...  \"tempat wisata yang bagus dan indah di Tretes,...\n",
              "91  Air Terjun  ...  \"Tempat yang bagus untuk bersantai, pemandanga...\n",
              "92  Air Terjun  ...  \"sejukk suasananya .. airnya dingin bgt uhh\\n1...\n",
              "93  Air Terjun  ...  \"Tempatnya alami 😍 HTM Free, tapi sayangnya ad...\n",
              "98  Air Terjun  ...  \"Ini adalah tempat yang asyik untuk dijelajahi...\n",
              "\n",
              "[21 rows x 6 columns]"
            ]
          },
          "metadata": {},
          "execution_count": 11
        }
      ]
    },
    {
      "cell_type": "code",
      "source": [
        "# Mengecek kategori tempat wisata Air Terjun (dengan spasi)\n",
        "fix_wisata[fix_wisata['Category '] == 'Air Terjun ']"
      ],
      "metadata": {
        "colab": {
          "base_uri": "https://localhost:8080/",
          "height": 175
        },
        "id": "JIdlvkomtNVJ",
        "outputId": "f436c260-8865-4711-8093-323a9e4ee494"
      },
      "execution_count": 12,
      "outputs": [
        {
          "output_type": "execute_result",
          "data": {
            "text/html": [
              "<div>\n",
              "<style scoped>\n",
              "    .dataframe tbody tr th:only-of-type {\n",
              "        vertical-align: middle;\n",
              "    }\n",
              "\n",
              "    .dataframe tbody tr th {\n",
              "        vertical-align: top;\n",
              "    }\n",
              "\n",
              "    .dataframe thead th {\n",
              "        text-align: right;\n",
              "    }\n",
              "</style>\n",
              "<table border=\"1\" class=\"dataframe\">\n",
              "  <thead>\n",
              "    <tr style=\"text-align: right;\">\n",
              "      <th></th>\n",
              "      <th>Category</th>\n",
              "      <th>Name</th>\n",
              "      <th>City</th>\n",
              "      <th>Price</th>\n",
              "      <th>Rating</th>\n",
              "      <th>Review</th>\n",
              "    </tr>\n",
              "  </thead>\n",
              "  <tbody>\n",
              "    <tr>\n",
              "      <th>2</th>\n",
              "      <td>Air Terjun</td>\n",
              "      <td>Coban Rondo</td>\n",
              "      <td>Batu</td>\n",
              "      <td>Rp. 30.000</td>\n",
              "      <td>4.0</td>\n",
              "      <td>\"Tempat menarik. Akses mudah, tempat menarik, ...</td>\n",
              "    </tr>\n",
              "    <tr>\n",
              "      <th>5</th>\n",
              "      <td>Air Terjun</td>\n",
              "      <td>Seweru</td>\n",
              "      <td>Madiun</td>\n",
              "      <td>Rp. 2.000</td>\n",
              "      <td>4.0</td>\n",
              "      <td>\"Tempatnya bagus, cukup bersih, ada toilet. Ak...</td>\n",
              "    </tr>\n",
              "    <tr>\n",
              "      <th>9</th>\n",
              "      <td>Air Terjun</td>\n",
              "      <td>Irenggolo</td>\n",
              "      <td>Kediri</td>\n",
              "      <td>Rp. 3.000</td>\n",
              "      <td>4.4</td>\n",
              "      <td>\"Air terjun dengan akses yg cukup mudah dijang...</td>\n",
              "    </tr>\n",
              "    <tr>\n",
              "      <th>17</th>\n",
              "      <td>Air Terjun</td>\n",
              "      <td>Dolo</td>\n",
              "      <td>Kediri</td>\n",
              "      <td>Rp. 7.500</td>\n",
              "      <td>4.3</td>\n",
              "      <td>\"Air terjun yang sangat bagus dan menakjubkan....</td>\n",
              "    </tr>\n",
              "  </tbody>\n",
              "</table>\n",
              "</div>"
            ],
            "text/plain": [
              "      Category   ...                                             Review\n",
              "2   Air Terjun   ...  \"Tempat menarik. Akses mudah, tempat menarik, ...\n",
              "5   Air Terjun   ...  \"Tempatnya bagus, cukup bersih, ada toilet. Ak...\n",
              "9   Air Terjun   ...  \"Air terjun dengan akses yg cukup mudah dijang...\n",
              "17  Air Terjun   ...  \"Air terjun yang sangat bagus dan menakjubkan....\n",
              "\n",
              "[4 rows x 6 columns]"
            ]
          },
          "metadata": {},
          "execution_count": 12
        }
      ]
    },
    {
      "cell_type": "markdown",
      "source": [
        "Dalam sistem rekomendasi ini yang kita kembangkan, penting untuk memastikan satu tempat wisata mewakili satu kategori tempat wisata. Tujuannya supaya tidak terjadi dobel atau rangkap kategori dalam satu tempat wisata. Sehingga, sistem dapat merekomendasikan tempat wisata berdasarkan kategori tempat wisatanya."
      ],
      "metadata": {
        "id": "VEK7Nx7I7aGi"
      }
    },
    {
      "cell_type": "code",
      "source": [
        "fix_wisata = fix_wisata.replace('Gunung ', 'Gunung')\n",
        "fix_wisata = fix_wisata.replace('Pantai ', 'Pantai')\n",
        "fix_wisata = fix_wisata.replace(['Air Terjun ','Air Terjun'], 'Air_Terjun')\n",
        "fix_wisata = fix_wisata.replace('Taman Hiburan ', 'Taman_Hiburan')\n",
        "fix_wisata = fix_wisata.replace('Museum ', 'Museum')\n",
        "fix_wisata['Category '].unique()"
      ],
      "metadata": {
        "colab": {
          "base_uri": "https://localhost:8080/"
        },
        "id": "dn20A15G74YF",
        "outputId": "02160da9-26c1-4072-9e59-a17fe8ea6836"
      },
      "execution_count": 13,
      "outputs": [
        {
          "output_type": "execute_result",
          "data": {
            "text/plain": [
              "array(['Gunung', 'Pantai', 'Air_Terjun', 'Taman_Hiburan', 'Museum',\n",
              "       'Telaga'], dtype=object)"
            ]
          },
          "metadata": {},
          "execution_count": 13
        }
      ]
    },
    {
      "cell_type": "markdown",
      "source": [
        "Sekarang, semua kategori tempat wisata telah berubah menjadi tanpa spasi. Untuk kategori tempat wisata yang lebih dari satu kata, dipisah dengan karakter `underscore` (_). Hal ini dilakukan agar memudahkan saat pemodelan."
      ],
      "metadata": {
        "id": "hi0THzcK7_Tf"
      }
    },
    {
      "cell_type": "markdown",
      "source": [
        "## 4.4 Tahap Persiapan"
      ],
      "metadata": {
        "id": "TUTzPc6pcV5e"
      }
    },
    {
      "cell_type": "code",
      "source": [
        "# Membuat variabel preparation yang berisi dataframe fix_wisata\n",
        "preparation = fix_wisata\n",
        "preparation"
      ],
      "metadata": {
        "colab": {
          "base_uri": "https://localhost:8080/",
          "height": 424
        },
        "id": "nYNHUqI7cpF1",
        "outputId": "4cab0770-2cb2-4edb-b892-2d0a69c998c2"
      },
      "execution_count": 14,
      "outputs": [
        {
          "output_type": "execute_result",
          "data": {
            "text/html": [
              "<div>\n",
              "<style scoped>\n",
              "    .dataframe tbody tr th:only-of-type {\n",
              "        vertical-align: middle;\n",
              "    }\n",
              "\n",
              "    .dataframe tbody tr th {\n",
              "        vertical-align: top;\n",
              "    }\n",
              "\n",
              "    .dataframe thead th {\n",
              "        text-align: right;\n",
              "    }\n",
              "</style>\n",
              "<table border=\"1\" class=\"dataframe\">\n",
              "  <thead>\n",
              "    <tr style=\"text-align: right;\">\n",
              "      <th></th>\n",
              "      <th>Category</th>\n",
              "      <th>Name</th>\n",
              "      <th>City</th>\n",
              "      <th>Price</th>\n",
              "      <th>Rating</th>\n",
              "      <th>Review</th>\n",
              "    </tr>\n",
              "  </thead>\n",
              "  <tbody>\n",
              "    <tr>\n",
              "      <th>0</th>\n",
              "      <td>Gunung</td>\n",
              "      <td>Arjuna</td>\n",
              "      <td>Malang</td>\n",
              "      <td>Rp. 11.000</td>\n",
              "      <td>4.5</td>\n",
              "      <td>\"jalurnya sangat mendamaikan, dengan pohon-poh...</td>\n",
              "    </tr>\n",
              "    <tr>\n",
              "      <th>1</th>\n",
              "      <td>Pantai</td>\n",
              "      <td>Batu bengkung</td>\n",
              "      <td>Malang</td>\n",
              "      <td>Rp. 10.000</td>\n",
              "      <td>4.5</td>\n",
              "      <td>\"Pantai Batu Bengkung terletak di Kabupaten Ma...</td>\n",
              "    </tr>\n",
              "    <tr>\n",
              "      <th>2</th>\n",
              "      <td>Air_Terjun</td>\n",
              "      <td>Coban Rondo</td>\n",
              "      <td>Batu</td>\n",
              "      <td>Rp. 30.000</td>\n",
              "      <td>4.0</td>\n",
              "      <td>\"Tempat menarik. Akses mudah, tempat menarik, ...</td>\n",
              "    </tr>\n",
              "    <tr>\n",
              "      <th>3</th>\n",
              "      <td>Gunung</td>\n",
              "      <td>Bromo</td>\n",
              "      <td>Probolinggo</td>\n",
              "      <td>Rp. 34.000</td>\n",
              "      <td>4.6</td>\n",
              "      <td>\"Gunung yg paling mudah didaki yaa gunung brom...</td>\n",
              "    </tr>\n",
              "    <tr>\n",
              "      <th>4</th>\n",
              "      <td>Gunung</td>\n",
              "      <td>Ijen</td>\n",
              "      <td>Banyuwangi</td>\n",
              "      <td>Rp. 7.500</td>\n",
              "      <td>4.7</td>\n",
              "      <td>\"Akses mendaki cukup mudah, parkir cukup luas,...</td>\n",
              "    </tr>\n",
              "    <tr>\n",
              "      <th>...</th>\n",
              "      <td>...</td>\n",
              "      <td>...</td>\n",
              "      <td>...</td>\n",
              "      <td>...</td>\n",
              "      <td>...</td>\n",
              "      <td>...</td>\n",
              "    </tr>\n",
              "    <tr>\n",
              "      <th>95</th>\n",
              "      <td>Museum</td>\n",
              "      <td>Trinil</td>\n",
              "      <td>Ngawi</td>\n",
              "      <td>Rp. 3.000</td>\n",
              "      <td>4.2</td>\n",
              "      <td>\"Sangat bagus untuk anak-anak, karena memiliki...</td>\n",
              "    </tr>\n",
              "    <tr>\n",
              "      <th>96</th>\n",
              "      <td>Gunung</td>\n",
              "      <td>Gumitir</td>\n",
              "      <td>Probolinggo</td>\n",
              "      <td>Rp. 34.000</td>\n",
              "      <td>4.4</td>\n",
              "      <td>\"Bagus sih tapi ati ati lho kalau kesana soaln...</td>\n",
              "    </tr>\n",
              "    <tr>\n",
              "      <th>97</th>\n",
              "      <td>Museum</td>\n",
              "      <td>Trowulan</td>\n",
              "      <td>Mojokerto</td>\n",
              "      <td>Rp. 5.000</td>\n",
              "      <td>4.4</td>\n",
              "      <td>\"Anda TIDAK DAPAT mengambil foto dari setiap o...</td>\n",
              "    </tr>\n",
              "    <tr>\n",
              "      <th>98</th>\n",
              "      <td>Air_Terjun</td>\n",
              "      <td>Watu Gedhek</td>\n",
              "      <td>Mojokerto</td>\n",
              "      <td>Rp. 5.000</td>\n",
              "      <td>4.3</td>\n",
              "      <td>\"Ini adalah tempat yang asyik untuk dijelajahi...</td>\n",
              "    </tr>\n",
              "    <tr>\n",
              "      <th>99</th>\n",
              "      <td>Museum</td>\n",
              "      <td>Mpu Purwa</td>\n",
              "      <td>Malang</td>\n",
              "      <td>Gratis</td>\n",
              "      <td>4.5</td>\n",
              "      <td>\"Berlokasi di Malang. Tidak ada tiket masuk, t...</td>\n",
              "    </tr>\n",
              "  </tbody>\n",
              "</table>\n",
              "<p>100 rows × 6 columns</p>\n",
              "</div>"
            ],
            "text/plain": [
              "     Category   ...                                             Review\n",
              "0       Gunung  ...  \"jalurnya sangat mendamaikan, dengan pohon-poh...\n",
              "1       Pantai  ...  \"Pantai Batu Bengkung terletak di Kabupaten Ma...\n",
              "2   Air_Terjun  ...  \"Tempat menarik. Akses mudah, tempat menarik, ...\n",
              "3       Gunung  ...  \"Gunung yg paling mudah didaki yaa gunung brom...\n",
              "4       Gunung  ...  \"Akses mendaki cukup mudah, parkir cukup luas,...\n",
              "..         ...  ...                                                ...\n",
              "95      Museum  ...  \"Sangat bagus untuk anak-anak, karena memiliki...\n",
              "96      Gunung  ...  \"Bagus sih tapi ati ati lho kalau kesana soaln...\n",
              "97      Museum  ...  \"Anda TIDAK DAPAT mengambil foto dari setiap o...\n",
              "98  Air_Terjun  ...  \"Ini adalah tempat yang asyik untuk dijelajahi...\n",
              "99      Museum  ...  \"Berlokasi di Malang. Tidak ada tiket masuk, t...\n",
              "\n",
              "[100 rows x 6 columns]"
            ]
          },
          "metadata": {},
          "execution_count": 14
        }
      ]
    },
    {
      "cell_type": "markdown",
      "source": [
        "Selanjutnya, mengkonversi data series menjadi list. Dalam hal ini, gunakan fungsi `tolist()` dari library numpy."
      ],
      "metadata": {
        "id": "1SH1WlXvco7C"
      }
    },
    {
      "cell_type": "code",
      "source": [
        "# Mengonversi data series ‘Category’ menjadi dalam bentuk list\n",
        "wisata_category = preparation['Category '].tolist()\n",
        " \n",
        "# Mengonversi data series ‘Name’ menjadi dalam bentuk list\n",
        "wisata_name = preparation['Name '].tolist()\n",
        " \n",
        "# Mengonversi data series ‘City’ menjadi dalam bentuk list\n",
        "wisata_city = preparation['City'].tolist()\n",
        " \n",
        "print(len(wisata_category))\n",
        "print(len(wisata_name))\n",
        "print(len(wisata_city))"
      ],
      "metadata": {
        "colab": {
          "base_uri": "https://localhost:8080/"
        },
        "id": "bD3tSKDrWE0G",
        "outputId": "8584b044-ad7d-49b3-ff48-467e1e5785bc"
      },
      "execution_count": 15,
      "outputs": [
        {
          "output_type": "stream",
          "name": "stdout",
          "text": [
            "100\n",
            "100\n",
            "100\n"
          ]
        }
      ]
    },
    {
      "cell_type": "markdown",
      "source": [
        "Tahap berikutnya, membuat dictionary untuk menentukan pasangan key-value pada data `wisata_category`, `wisata_name`, dan `wisata_city` yang telah disiapkan sebelumnya."
      ],
      "metadata": {
        "id": "Dimpdw1ddCaw"
      }
    },
    {
      "cell_type": "code",
      "source": [
        "# Membuat dictionary untuk data ‘wisata_category’, ‘wisata_name’, dan ‘wisata_city’\n",
        "wisata_new = pd.DataFrame({\n",
        "    'Category': wisata_category,\n",
        "    'Nama wisata': wisata_name,\n",
        "    'City': wisata_city\n",
        "})\n",
        "wisata_new"
      ],
      "metadata": {
        "colab": {
          "base_uri": "https://localhost:8080/",
          "height": 424
        },
        "id": "YzIRxYlyb3Ll",
        "outputId": "60dfbac7-90c8-4035-ee54-bb8eb69eccde"
      },
      "execution_count": 16,
      "outputs": [
        {
          "output_type": "execute_result",
          "data": {
            "text/html": [
              "<div>\n",
              "<style scoped>\n",
              "    .dataframe tbody tr th:only-of-type {\n",
              "        vertical-align: middle;\n",
              "    }\n",
              "\n",
              "    .dataframe tbody tr th {\n",
              "        vertical-align: top;\n",
              "    }\n",
              "\n",
              "    .dataframe thead th {\n",
              "        text-align: right;\n",
              "    }\n",
              "</style>\n",
              "<table border=\"1\" class=\"dataframe\">\n",
              "  <thead>\n",
              "    <tr style=\"text-align: right;\">\n",
              "      <th></th>\n",
              "      <th>Category</th>\n",
              "      <th>Nama wisata</th>\n",
              "      <th>City</th>\n",
              "    </tr>\n",
              "  </thead>\n",
              "  <tbody>\n",
              "    <tr>\n",
              "      <th>0</th>\n",
              "      <td>Gunung</td>\n",
              "      <td>Arjuna</td>\n",
              "      <td>Malang</td>\n",
              "    </tr>\n",
              "    <tr>\n",
              "      <th>1</th>\n",
              "      <td>Pantai</td>\n",
              "      <td>Batu bengkung</td>\n",
              "      <td>Malang</td>\n",
              "    </tr>\n",
              "    <tr>\n",
              "      <th>2</th>\n",
              "      <td>Air_Terjun</td>\n",
              "      <td>Coban Rondo</td>\n",
              "      <td>Batu</td>\n",
              "    </tr>\n",
              "    <tr>\n",
              "      <th>3</th>\n",
              "      <td>Gunung</td>\n",
              "      <td>Bromo</td>\n",
              "      <td>Probolinggo</td>\n",
              "    </tr>\n",
              "    <tr>\n",
              "      <th>4</th>\n",
              "      <td>Gunung</td>\n",
              "      <td>Ijen</td>\n",
              "      <td>Banyuwangi</td>\n",
              "    </tr>\n",
              "    <tr>\n",
              "      <th>...</th>\n",
              "      <td>...</td>\n",
              "      <td>...</td>\n",
              "      <td>...</td>\n",
              "    </tr>\n",
              "    <tr>\n",
              "      <th>95</th>\n",
              "      <td>Museum</td>\n",
              "      <td>Trinil</td>\n",
              "      <td>Ngawi</td>\n",
              "    </tr>\n",
              "    <tr>\n",
              "      <th>96</th>\n",
              "      <td>Gunung</td>\n",
              "      <td>Gumitir</td>\n",
              "      <td>Probolinggo</td>\n",
              "    </tr>\n",
              "    <tr>\n",
              "      <th>97</th>\n",
              "      <td>Museum</td>\n",
              "      <td>Trowulan</td>\n",
              "      <td>Mojokerto</td>\n",
              "    </tr>\n",
              "    <tr>\n",
              "      <th>98</th>\n",
              "      <td>Air_Terjun</td>\n",
              "      <td>Watu Gedhek</td>\n",
              "      <td>Mojokerto</td>\n",
              "    </tr>\n",
              "    <tr>\n",
              "      <th>99</th>\n",
              "      <td>Museum</td>\n",
              "      <td>Mpu Purwa</td>\n",
              "      <td>Malang</td>\n",
              "    </tr>\n",
              "  </tbody>\n",
              "</table>\n",
              "<p>100 rows × 3 columns</p>\n",
              "</div>"
            ],
            "text/plain": [
              "      Category    Nama wisata         City\n",
              "0       Gunung         Arjuna       Malang\n",
              "1       Pantai  Batu bengkung       Malang\n",
              "2   Air_Terjun    Coban Rondo        Batu \n",
              "3       Gunung          Bromo  Probolinggo\n",
              "4       Gunung           Ijen   Banyuwangi\n",
              "..         ...            ...          ...\n",
              "95      Museum         Trinil        Ngawi\n",
              "96      Gunung        Gumitir  Probolinggo\n",
              "97      Museum       Trowulan    Mojokerto\n",
              "98  Air_Terjun    Watu Gedhek    Mojokerto\n",
              "99      Museum      Mpu Purwa       Malang\n",
              "\n",
              "[100 rows x 3 columns]"
            ]
          },
          "metadata": {},
          "execution_count": 16
        }
      ]
    },
    {
      "cell_type": "markdown",
      "source": [
        "# **5. Model Development dengan Content Based Filtering**"
      ],
      "metadata": {
        "id": "iw3Oowk8fmg5"
      }
    },
    {
      "cell_type": "markdown",
      "source": [
        "Sebelumnya, lakukan pengecekan data kembali dan assign dataframe dari tahap Preparation ke dalam variabel data"
      ],
      "metadata": {
        "id": "PV56yX87f0TA"
      }
    },
    {
      "cell_type": "code",
      "source": [
        "data = wisata_new\n",
        "data.sample(5)"
      ],
      "metadata": {
        "colab": {
          "base_uri": "https://localhost:8080/",
          "height": 206
        },
        "id": "m5hrBzkcfo54",
        "outputId": "df1013d5-4e94-4cfe-9232-9e9498793f4d"
      },
      "execution_count": 17,
      "outputs": [
        {
          "output_type": "execute_result",
          "data": {
            "text/html": [
              "<div>\n",
              "<style scoped>\n",
              "    .dataframe tbody tr th:only-of-type {\n",
              "        vertical-align: middle;\n",
              "    }\n",
              "\n",
              "    .dataframe tbody tr th {\n",
              "        vertical-align: top;\n",
              "    }\n",
              "\n",
              "    .dataframe thead th {\n",
              "        text-align: right;\n",
              "    }\n",
              "</style>\n",
              "<table border=\"1\" class=\"dataframe\">\n",
              "  <thead>\n",
              "    <tr style=\"text-align: right;\">\n",
              "      <th></th>\n",
              "      <th>Category</th>\n",
              "      <th>Nama wisata</th>\n",
              "      <th>City</th>\n",
              "    </tr>\n",
              "  </thead>\n",
              "  <tbody>\n",
              "    <tr>\n",
              "      <th>22</th>\n",
              "      <td>Taman_Hiburan</td>\n",
              "      <td>Batu Secret Zoo</td>\n",
              "      <td>Batu</td>\n",
              "    </tr>\n",
              "    <tr>\n",
              "      <th>73</th>\n",
              "      <td>Pantai</td>\n",
              "      <td>Kedung Tumpang</td>\n",
              "      <td>Tulungagung</td>\n",
              "    </tr>\n",
              "    <tr>\n",
              "      <th>68</th>\n",
              "      <td>Pantai</td>\n",
              "      <td>Karang Bolong</td>\n",
              "      <td>Pacitan</td>\n",
              "    </tr>\n",
              "    <tr>\n",
              "      <th>13</th>\n",
              "      <td>Taman_Hiburan</td>\n",
              "      <td>Jatim Park II</td>\n",
              "      <td>Batu</td>\n",
              "    </tr>\n",
              "    <tr>\n",
              "      <th>64</th>\n",
              "      <td>Pantai</td>\n",
              "      <td>Banyu Anjlok</td>\n",
              "      <td>Malang</td>\n",
              "    </tr>\n",
              "  </tbody>\n",
              "</table>\n",
              "</div>"
            ],
            "text/plain": [
              "         Category      Nama wisata         City\n",
              "22  Taman_Hiburan  Batu Secret Zoo        Batu \n",
              "73         Pantai   Kedung Tumpang  Tulungagung\n",
              "68         Pantai    Karang Bolong      Pacitan\n",
              "13  Taman_Hiburan    Jatim Park II        Batu \n",
              "64         Pantai     Banyu Anjlok       Malang"
            ]
          },
          "metadata": {},
          "execution_count": 17
        }
      ]
    },
    {
      "cell_type": "markdown",
      "source": [
        "## 5.1 TF-IDF Vectorizer\n",
        "Pada tahap ini akan membangun sistem rekomendasi sederhana berdasarkan kategori tempat wisata, dengan menggunakan fungsi `tfidfvectorizer()` dari library `sklearn`."
      ],
      "metadata": {
        "id": "VqbPV9LhgN8v"
      }
    },
    {
      "cell_type": "code",
      "source": [
        "from sklearn.feature_extraction.text import TfidfVectorizer\n",
        " \n",
        "# Inisialisasi TfidfVectorizer\n",
        "tf = TfidfVectorizer()\n",
        " \n",
        "# Melakukan perhitungan idf pada data kategory\n",
        "tf.fit(data['Category']) \n",
        " \n",
        "# Mapping array dari fitur index integer ke fitur nama\n",
        "tf.get_feature_names() "
      ],
      "metadata": {
        "colab": {
          "base_uri": "https://localhost:8080/"
        },
        "id": "KkD0dEjRgjAN",
        "outputId": "5c3bdf74-4fc5-4754-8f19-199ae65e4dda"
      },
      "execution_count": 18,
      "outputs": [
        {
          "output_type": "stream",
          "name": "stderr",
          "text": [
            "/usr/local/lib/python3.7/dist-packages/sklearn/utils/deprecation.py:87: FutureWarning: Function get_feature_names is deprecated; get_feature_names is deprecated in 1.0 and will be removed in 1.2. Please use get_feature_names_out instead.\n",
            "  warnings.warn(msg, category=FutureWarning)\n"
          ]
        },
        {
          "output_type": "execute_result",
          "data": {
            "text/plain": [
              "['air_terjun', 'gunung', 'museum', 'pantai', 'taman_hiburan', 'telaga']"
            ]
          },
          "metadata": {},
          "execution_count": 18
        }
      ]
    },
    {
      "cell_type": "markdown",
      "source": [
        "Selanjutnya, lakukan fit dan transformasi ke dalam bentuk matriks. "
      ],
      "metadata": {
        "id": "cvl5NnD7jBhI"
      }
    },
    {
      "cell_type": "code",
      "source": [
        "# Melakukan fit lalu ditransformasikan ke bentuk matrix\n",
        "tfidf_matrix = tf.fit_transform(data['Category']) \n",
        " \n",
        "# Melihat ukuran matrix tfidf\n",
        "tfidf_matrix.shape "
      ],
      "metadata": {
        "colab": {
          "base_uri": "https://localhost:8080/"
        },
        "id": "ImRlsvXni2l2",
        "outputId": "b78acc2b-7d86-4b34-b396-31bd279d8043"
      },
      "execution_count": 19,
      "outputs": [
        {
          "output_type": "execute_result",
          "data": {
            "text/plain": [
              "(100, 6)"
            ]
          },
          "metadata": {},
          "execution_count": 19
        }
      ]
    },
    {
      "cell_type": "markdown",
      "source": [
        "Perhatikanlah, hasil matriks berukuran (100, 6). Nilai 100 merupakan ukuran data dan 22 merupakan matrik kategori tempat wisata. \n",
        "\n",
        "Untuk menghasilkan vektor tf-idf dalam bentuk matriks, gunakan fungsi `todense()`."
      ],
      "metadata": {
        "id": "v3cGs8qajEwF"
      }
    },
    {
      "cell_type": "code",
      "source": [
        "# Mengubah vektor tf-idf dalam bentuk matriks dengan fungsi todense()\n",
        "tfidf_matrix.todense()"
      ],
      "metadata": {
        "colab": {
          "base_uri": "https://localhost:8080/"
        },
        "id": "BSN8AsG0_YV1",
        "outputId": "700ab7fb-935a-46ea-e6a3-fb517ff77e6f"
      },
      "execution_count": 20,
      "outputs": [
        {
          "output_type": "execute_result",
          "data": {
            "text/plain": [
              "matrix([[0., 1., 0., 0., 0., 0.],\n",
              "        [0., 0., 0., 1., 0., 0.],\n",
              "        [1., 0., 0., 0., 0., 0.],\n",
              "        [0., 1., 0., 0., 0., 0.],\n",
              "        [0., 1., 0., 0., 0., 0.],\n",
              "        [1., 0., 0., 0., 0., 0.],\n",
              "        [0., 0., 0., 1., 0., 0.],\n",
              "        [0., 0., 0., 1., 0., 0.],\n",
              "        [0., 1., 0., 0., 0., 0.],\n",
              "        [1., 0., 0., 0., 0., 0.],\n",
              "        [0., 1., 0., 0., 0., 0.],\n",
              "        [0., 0., 0., 1., 0., 0.],\n",
              "        [0., 0., 0., 0., 1., 0.],\n",
              "        [0., 0., 0., 0., 1., 0.],\n",
              "        [0., 0., 0., 0., 1., 0.],\n",
              "        [0., 0., 0., 1., 0., 0.],\n",
              "        [0., 0., 0., 1., 0., 0.],\n",
              "        [1., 0., 0., 0., 0., 0.],\n",
              "        [0., 1., 0., 0., 0., 0.],\n",
              "        [0., 0., 0., 0., 1., 0.],\n",
              "        [0., 0., 0., 0., 1., 0.],\n",
              "        [0., 0., 0., 1., 0., 0.],\n",
              "        [0., 0., 0., 0., 1., 0.],\n",
              "        [0., 0., 1., 0., 0., 0.],\n",
              "        [1., 0., 0., 0., 0., 0.],\n",
              "        [0., 0., 1., 0., 0., 0.],\n",
              "        [0., 0., 1., 0., 0., 0.],\n",
              "        [0., 1., 0., 0., 0., 0.],\n",
              "        [0., 1., 0., 0., 0., 0.],\n",
              "        [1., 0., 0., 0., 0., 0.],\n",
              "        [1., 0., 0., 0., 0., 0.],\n",
              "        [1., 0., 0., 0., 0., 0.],\n",
              "        [0., 0., 0., 0., 1., 0.],\n",
              "        [0., 0., 0., 0., 1., 0.],\n",
              "        [1., 0., 0., 0., 0., 0.],\n",
              "        [0., 0., 1., 0., 0., 0.],\n",
              "        [0., 0., 1., 0., 0., 0.],\n",
              "        [0., 0., 1., 0., 0., 0.],\n",
              "        [1., 0., 0., 0., 0., 0.],\n",
              "        [1., 0., 0., 0., 0., 0.],\n",
              "        [1., 0., 0., 0., 0., 0.],\n",
              "        [0., 1., 0., 0., 0., 0.],\n",
              "        [0., 1., 0., 0., 0., 0.],\n",
              "        [1., 0., 0., 0., 0., 0.],\n",
              "        [0., 0., 0., 0., 1., 0.],\n",
              "        [0., 1., 0., 0., 0., 0.],\n",
              "        [0., 1., 0., 0., 0., 0.],\n",
              "        [0., 0., 0., 1., 0., 0.],\n",
              "        [0., 0., 0., 1., 0., 0.],\n",
              "        [0., 0., 0., 1., 0., 0.],\n",
              "        [0., 0., 0., 0., 1., 0.],\n",
              "        [0., 0., 0., 0., 1., 0.],\n",
              "        [0., 1., 0., 0., 0., 0.],\n",
              "        [1., 0., 0., 0., 0., 0.],\n",
              "        [1., 0., 0., 0., 0., 0.],\n",
              "        [1., 0., 0., 0., 0., 0.],\n",
              "        [1., 0., 0., 0., 0., 0.],\n",
              "        [1., 0., 0., 0., 0., 0.],\n",
              "        [0., 0., 0., 1., 0., 0.],\n",
              "        [0., 0., 0., 0., 0., 1.],\n",
              "        [0., 0., 0., 1., 0., 0.],\n",
              "        [0., 0., 0., 1., 0., 0.],\n",
              "        [0., 0., 0., 1., 0., 0.],\n",
              "        [0., 0., 0., 1., 0., 0.],\n",
              "        [0., 0., 0., 1., 0., 0.],\n",
              "        [0., 0., 0., 1., 0., 0.],\n",
              "        [0., 0., 0., 1., 0., 0.],\n",
              "        [0., 0., 0., 1., 0., 0.],\n",
              "        [0., 0., 0., 1., 0., 0.],\n",
              "        [0., 1., 0., 0., 0., 0.],\n",
              "        [1., 0., 0., 0., 0., 0.],\n",
              "        [1., 0., 0., 0., 0., 0.],\n",
              "        [1., 0., 0., 0., 0., 0.],\n",
              "        [0., 0., 0., 1., 0., 0.],\n",
              "        [0., 0., 0., 1., 0., 0.],\n",
              "        [0., 0., 0., 1., 0., 0.],\n",
              "        [0., 1., 0., 0., 0., 0.],\n",
              "        [0., 0., 0., 1., 0., 0.],\n",
              "        [0., 0., 1., 0., 0., 0.],\n",
              "        [0., 0., 0., 0., 1., 0.],\n",
              "        [0., 0., 0., 0., 1., 0.],\n",
              "        [0., 0., 0., 0., 1., 0.],\n",
              "        [0., 0., 0., 0., 1., 0.],\n",
              "        [0., 0., 0., 1., 0., 0.],\n",
              "        [0., 0., 1., 0., 0., 0.],\n",
              "        [0., 0., 1., 0., 0., 0.],\n",
              "        [0., 0., 1., 0., 0., 0.],\n",
              "        [0., 0., 1., 0., 0., 0.],\n",
              "        [0., 0., 1., 0., 0., 0.],\n",
              "        [0., 0., 0., 0., 1., 0.],\n",
              "        [0., 1., 0., 0., 0., 0.],\n",
              "        [1., 0., 0., 0., 0., 0.],\n",
              "        [1., 0., 0., 0., 0., 0.],\n",
              "        [1., 0., 0., 0., 0., 0.],\n",
              "        [0., 0., 1., 0., 0., 0.],\n",
              "        [0., 0., 1., 0., 0., 0.],\n",
              "        [0., 1., 0., 0., 0., 0.],\n",
              "        [0., 0., 1., 0., 0., 0.],\n",
              "        [1., 0., 0., 0., 0., 0.],\n",
              "        [0., 0., 1., 0., 0., 0.]])"
            ]
          },
          "metadata": {},
          "execution_count": 20
        }
      ]
    },
    {
      "cell_type": "markdown",
      "source": [
        "Selanjutnya, mari kita lihat matriks tf-idf untuk beberapa tempat wisata (Nama wisata) dan kategori tempat wisata (Category)."
      ],
      "metadata": {
        "id": "o6350Er6_iDV"
      }
    },
    {
      "cell_type": "code",
      "source": [
        "# Membuat dataframe untuk melihat tf-idf matrix\n",
        "# Kolom diisi dengan kategori tempat wisata\n",
        "# Baris diisi dengan nama tempat wisata\n",
        " \n",
        "pd.DataFrame(\n",
        "    tfidf_matrix.todense(), \n",
        "    columns=tf.get_feature_names(),\n",
        "    index=data['Nama wisata']\n",
        ").sample(6, axis=1).sample(10, axis=0)"
      ],
      "metadata": {
        "colab": {
          "base_uri": "https://localhost:8080/",
          "height": 449
        },
        "id": "gOX1m8Sf_hZ7",
        "outputId": "9b9324c6-2d16-47b9-8740-03440caa00c3"
      },
      "execution_count": 21,
      "outputs": [
        {
          "output_type": "stream",
          "name": "stderr",
          "text": [
            "/usr/local/lib/python3.7/dist-packages/sklearn/utils/deprecation.py:87: FutureWarning: Function get_feature_names is deprecated; get_feature_names is deprecated in 1.0 and will be removed in 1.2. Please use get_feature_names_out instead.\n",
            "  warnings.warn(msg, category=FutureWarning)\n"
          ]
        },
        {
          "output_type": "execute_result",
          "data": {
            "text/html": [
              "<div>\n",
              "<style scoped>\n",
              "    .dataframe tbody tr th:only-of-type {\n",
              "        vertical-align: middle;\n",
              "    }\n",
              "\n",
              "    .dataframe tbody tr th {\n",
              "        vertical-align: top;\n",
              "    }\n",
              "\n",
              "    .dataframe thead th {\n",
              "        text-align: right;\n",
              "    }\n",
              "</style>\n",
              "<table border=\"1\" class=\"dataframe\">\n",
              "  <thead>\n",
              "    <tr style=\"text-align: right;\">\n",
              "      <th></th>\n",
              "      <th>taman_hiburan</th>\n",
              "      <th>gunung</th>\n",
              "      <th>museum</th>\n",
              "      <th>telaga</th>\n",
              "      <th>pantai</th>\n",
              "      <th>air_terjun</th>\n",
              "    </tr>\n",
              "    <tr>\n",
              "      <th>Nama wisata</th>\n",
              "      <th></th>\n",
              "      <th></th>\n",
              "      <th></th>\n",
              "      <th></th>\n",
              "      <th></th>\n",
              "      <th></th>\n",
              "    </tr>\n",
              "  </thead>\n",
              "  <tbody>\n",
              "    <tr>\n",
              "      <th>Sunan Giri</th>\n",
              "      <td>0.0</td>\n",
              "      <td>0.0</td>\n",
              "      <td>1.0</td>\n",
              "      <td>0.0</td>\n",
              "      <td>0.0</td>\n",
              "      <td>0.0</td>\n",
              "    </tr>\n",
              "    <tr>\n",
              "      <th>Argapura</th>\n",
              "      <td>0.0</td>\n",
              "      <td>1.0</td>\n",
              "      <td>0.0</td>\n",
              "      <td>0.0</td>\n",
              "      <td>0.0</td>\n",
              "      <td>0.0</td>\n",
              "    </tr>\n",
              "    <tr>\n",
              "      <th>Coban Pelangi</th>\n",
              "      <td>0.0</td>\n",
              "      <td>0.0</td>\n",
              "      <td>0.0</td>\n",
              "      <td>0.0</td>\n",
              "      <td>0.0</td>\n",
              "      <td>1.0</td>\n",
              "    </tr>\n",
              "    <tr>\n",
              "      <th>Museum Kesehatan</th>\n",
              "      <td>0.0</td>\n",
              "      <td>0.0</td>\n",
              "      <td>1.0</td>\n",
              "      <td>0.0</td>\n",
              "      <td>0.0</td>\n",
              "      <td>0.0</td>\n",
              "    </tr>\n",
              "    <tr>\n",
              "      <th>Lawu</th>\n",
              "      <td>0.0</td>\n",
              "      <td>1.0</td>\n",
              "      <td>0.0</td>\n",
              "      <td>0.0</td>\n",
              "      <td>0.0</td>\n",
              "      <td>0.0</td>\n",
              "    </tr>\n",
              "    <tr>\n",
              "      <th>Nglirip</th>\n",
              "      <td>0.0</td>\n",
              "      <td>0.0</td>\n",
              "      <td>0.0</td>\n",
              "      <td>0.0</td>\n",
              "      <td>0.0</td>\n",
              "      <td>1.0</td>\n",
              "    </tr>\n",
              "    <tr>\n",
              "      <th>Raung</th>\n",
              "      <td>0.0</td>\n",
              "      <td>1.0</td>\n",
              "      <td>0.0</td>\n",
              "      <td>0.0</td>\n",
              "      <td>0.0</td>\n",
              "      <td>0.0</td>\n",
              "    </tr>\n",
              "    <tr>\n",
              "      <th>Telaga Sarangan</th>\n",
              "      <td>0.0</td>\n",
              "      <td>0.0</td>\n",
              "      <td>0.0</td>\n",
              "      <td>1.0</td>\n",
              "      <td>0.0</td>\n",
              "      <td>0.0</td>\n",
              "    </tr>\n",
              "    <tr>\n",
              "      <th>Dlundung</th>\n",
              "      <td>0.0</td>\n",
              "      <td>0.0</td>\n",
              "      <td>0.0</td>\n",
              "      <td>0.0</td>\n",
              "      <td>0.0</td>\n",
              "      <td>1.0</td>\n",
              "    </tr>\n",
              "    <tr>\n",
              "      <th>Goa Putih</th>\n",
              "      <td>0.0</td>\n",
              "      <td>0.0</td>\n",
              "      <td>0.0</td>\n",
              "      <td>0.0</td>\n",
              "      <td>0.0</td>\n",
              "      <td>1.0</td>\n",
              "    </tr>\n",
              "  </tbody>\n",
              "</table>\n",
              "</div>"
            ],
            "text/plain": [
              "                  taman_hiburan  gunung  museum  telaga  pantai  air_terjun\n",
              "Nama wisata                                                                \n",
              "Sunan Giri                  0.0     0.0     1.0     0.0     0.0         0.0\n",
              "Argapura                    0.0     1.0     0.0     0.0     0.0         0.0\n",
              "Coban Pelangi               0.0     0.0     0.0     0.0     0.0         1.0\n",
              "Museum Kesehatan            0.0     0.0     1.0     0.0     0.0         0.0\n",
              "Lawu                        0.0     1.0     0.0     0.0     0.0         0.0\n",
              "Nglirip                     0.0     0.0     0.0     0.0     0.0         1.0\n",
              "Raung                       0.0     1.0     0.0     0.0     0.0         0.0\n",
              "Telaga Sarangan             0.0     0.0     0.0     1.0     0.0         0.0\n",
              "Dlundung                    0.0     0.0     0.0     0.0     0.0         1.0\n",
              "Goa Putih                   0.0     0.0     0.0     0.0     0.0         1.0"
            ]
          },
          "metadata": {},
          "execution_count": 21
        }
      ]
    },
    {
      "cell_type": "markdown",
      "source": [
        "Output matriks tf-idf di atas menunjukkan tempat wisata Goa Putih memiliki kategori air terjun. Goa Putih, matriks menunjukan bahwa tempat wisata tersebut merupakan tempat wisata dengan kategori air terjun. Hal ini terlihat dari nilai matriks 1.0 pada kategori air terjun. Selanjutnya, tempat wisata Kedung Tumpang termasuk dalam kategori pantai. Sedangkan, tempat wisata Museum Majapahit termasuk dalam kategori museum. Demikian seterusnya. \n",
        "\n",
        "Sampai di sini, kita telah berhasil mengidentifikasi representasi fitur penting dari setiap kategori tempat wisata dengan fungsi `tfidfvectorizer`. Kita juga telah menghasilkan matriks yang menunjukkan korelasi antara kategori tempat wisata dengan tempat wisata. Selanjutnya, kita akan menghitung derajat kesamaan antara satu tempat wisata dengan tempat wisata lainnya untuk menghasilkan kandidat tempat wisata yang akan direkomendasikan."
      ],
      "metadata": {
        "id": "NebtiFvVBevy"
      }
    },
    {
      "cell_type": "markdown",
      "source": [
        "## 5.2 Cosine Similarity\n",
        "Pada tahap sebelumnya, telah dilakukan identifikasi korelasi antara tempat wisata dengan kategorinya. Sekarang, lakukan perhitungan derajat kesamaan (*similarity degree*) antar tempat wisata dengan teknik `cosine similarity`, dengan menggunakan fungsi `cosine_similarity` dari library `sklearn`. "
      ],
      "metadata": {
        "id": "UP5pbsOEDBbp"
      }
    },
    {
      "cell_type": "code",
      "source": [
        "from sklearn.metrics.pairwise import cosine_similarity\n",
        " \n",
        "# Menghitung cosine similarity pada matrix tf-idf\n",
        "cosine_sim = cosine_similarity(tfidf_matrix) \n",
        "cosine_sim"
      ],
      "metadata": {
        "colab": {
          "base_uri": "https://localhost:8080/"
        },
        "id": "Kurttz7CDk8i",
        "outputId": "2fd1ab1c-58fa-4816-8702-e2dbffa23b95"
      },
      "execution_count": 22,
      "outputs": [
        {
          "output_type": "execute_result",
          "data": {
            "text/plain": [
              "array([[1., 0., 0., ..., 0., 0., 0.],\n",
              "       [0., 1., 0., ..., 0., 0., 0.],\n",
              "       [0., 0., 1., ..., 0., 1., 0.],\n",
              "       ...,\n",
              "       [0., 0., 0., ..., 1., 0., 1.],\n",
              "       [0., 0., 1., ..., 0., 1., 0.],\n",
              "       [0., 0., 0., ..., 1., 0., 1.]])"
            ]
          },
          "metadata": {},
          "execution_count": 22
        }
      ]
    },
    {
      "cell_type": "markdown",
      "source": [
        "Tahap ini merupakan tahap menghitung cosine similarity dataframe tfidf_matrix yang sudah diperoleh pada tahapan sebelumnya. Kode di atas menghasilkan keluaran berupa matriks kesamaan (similarity) dalam bentuk array. \n",
        "\n",
        "Selanjutnya, mari kita lihat matriks kesamaan setiap tempat wisata dengan menampilkan nama tempat wisata dalam 5 sampel kolom (axis = 1) dan 10 sampel baris (axis=0)."
      ],
      "metadata": {
        "id": "5pcdtZGKDxcH"
      }
    },
    {
      "cell_type": "code",
      "source": [
        "# Membuat dataframe dari variabel cosine_sim dengan baris dan kolom berupa nama tempat wisata\n",
        "cosine_sim_df = pd.DataFrame(cosine_sim, index=data['Nama wisata'], columns=data['Nama wisata'])\n",
        "print('Shape:', cosine_sim_df.shape)\n",
        " \n",
        "# Melihat similarity matrix pada setiap tempat wisata\n",
        "cosine_sim_df.sample(5, axis=1).sample(10, axis=0)"
      ],
      "metadata": {
        "colab": {
          "base_uri": "https://localhost:8080/",
          "height": 412
        },
        "id": "Rt0lRVmXDxjL",
        "outputId": "df3a671b-334a-44f8-8573-0b4262d6eba2"
      },
      "execution_count": 23,
      "outputs": [
        {
          "output_type": "stream",
          "name": "stdout",
          "text": [
            "Shape: (100, 100)\n"
          ]
        },
        {
          "output_type": "execute_result",
          "data": {
            "text/html": [
              "<div>\n",
              "<style scoped>\n",
              "    .dataframe tbody tr th:only-of-type {\n",
              "        vertical-align: middle;\n",
              "    }\n",
              "\n",
              "    .dataframe tbody tr th {\n",
              "        vertical-align: top;\n",
              "    }\n",
              "\n",
              "    .dataframe thead th {\n",
              "        text-align: right;\n",
              "    }\n",
              "</style>\n",
              "<table border=\"1\" class=\"dataframe\">\n",
              "  <thead>\n",
              "    <tr style=\"text-align: right;\">\n",
              "      <th>Nama wisata</th>\n",
              "      <th>Banyu Anjlok</th>\n",
              "      <th>Museum Majapahit</th>\n",
              "      <th>Lawu</th>\n",
              "      <th>Kenpark Surabaya</th>\n",
              "      <th>Sumber Maron</th>\n",
              "    </tr>\n",
              "    <tr>\n",
              "      <th>Nama wisata</th>\n",
              "      <th></th>\n",
              "      <th></th>\n",
              "      <th></th>\n",
              "      <th></th>\n",
              "      <th></th>\n",
              "    </tr>\n",
              "  </thead>\n",
              "  <tbody>\n",
              "    <tr>\n",
              "      <th>Paseban</th>\n",
              "      <td>1.0</td>\n",
              "      <td>0.0</td>\n",
              "      <td>0.0</td>\n",
              "      <td>0.0</td>\n",
              "      <td>0.0</td>\n",
              "    </tr>\n",
              "    <tr>\n",
              "      <th>Coban Ciblungan</th>\n",
              "      <td>0.0</td>\n",
              "      <td>0.0</td>\n",
              "      <td>0.0</td>\n",
              "      <td>0.0</td>\n",
              "      <td>1.0</td>\n",
              "    </tr>\n",
              "    <tr>\n",
              "      <th>Baluran</th>\n",
              "      <td>0.0</td>\n",
              "      <td>0.0</td>\n",
              "      <td>1.0</td>\n",
              "      <td>0.0</td>\n",
              "      <td>0.0</td>\n",
              "    </tr>\n",
              "    <tr>\n",
              "      <th>Taman Dayu</th>\n",
              "      <td>0.0</td>\n",
              "      <td>0.0</td>\n",
              "      <td>0.0</td>\n",
              "      <td>1.0</td>\n",
              "      <td>0.0</td>\n",
              "    </tr>\n",
              "    <tr>\n",
              "      <th>Mpu Purwa</th>\n",
              "      <td>0.0</td>\n",
              "      <td>1.0</td>\n",
              "      <td>0.0</td>\n",
              "      <td>0.0</td>\n",
              "      <td>0.0</td>\n",
              "    </tr>\n",
              "    <tr>\n",
              "      <th>House of Sampoerna</th>\n",
              "      <td>0.0</td>\n",
              "      <td>1.0</td>\n",
              "      <td>0.0</td>\n",
              "      <td>0.0</td>\n",
              "      <td>0.0</td>\n",
              "    </tr>\n",
              "    <tr>\n",
              "      <th>Coban Sewu</th>\n",
              "      <td>0.0</td>\n",
              "      <td>0.0</td>\n",
              "      <td>0.0</td>\n",
              "      <td>0.0</td>\n",
              "      <td>1.0</td>\n",
              "    </tr>\n",
              "    <tr>\n",
              "      <th>Pasir Putih</th>\n",
              "      <td>1.0</td>\n",
              "      <td>0.0</td>\n",
              "      <td>0.0</td>\n",
              "      <td>0.0</td>\n",
              "      <td>0.0</td>\n",
              "    </tr>\n",
              "    <tr>\n",
              "      <th>Trowulan</th>\n",
              "      <td>0.0</td>\n",
              "      <td>1.0</td>\n",
              "      <td>0.0</td>\n",
              "      <td>0.0</td>\n",
              "      <td>0.0</td>\n",
              "    </tr>\n",
              "    <tr>\n",
              "      <th>Arjuna</th>\n",
              "      <td>0.0</td>\n",
              "      <td>0.0</td>\n",
              "      <td>1.0</td>\n",
              "      <td>0.0</td>\n",
              "      <td>0.0</td>\n",
              "    </tr>\n",
              "  </tbody>\n",
              "</table>\n",
              "</div>"
            ],
            "text/plain": [
              "Nama wisata         Banyu Anjlok  ...  Sumber Maron\n",
              "Nama wisata                       ...              \n",
              "Paseban                      1.0  ...           0.0\n",
              "Coban Ciblungan              0.0  ...           1.0\n",
              "Baluran                      0.0  ...           0.0\n",
              "Taman Dayu                   0.0  ...           0.0\n",
              "Mpu Purwa                    0.0  ...           0.0\n",
              "House of Sampoerna           0.0  ...           0.0\n",
              "Coban Sewu                   0.0  ...           1.0\n",
              "Pasir Putih                  1.0  ...           0.0\n",
              "Trowulan                     0.0  ...           0.0\n",
              "Arjuna                       0.0  ...           0.0\n",
              "\n",
              "[10 rows x 5 columns]"
            ]
          },
          "metadata": {},
          "execution_count": 23
        }
      ]
    },
    {
      "cell_type": "markdown",
      "source": [
        "Dengan cosine similarity, kita berhasil mengidentifikasi kesamaan antara satu tempat wisata dengan tempat wisata lainnya. Shape (100, 100) merupakan ukuran matriks similarity dari data yang kita miliki. Berdasarkan data yang ada, matriks di atas sebenarnya berukuran 100 tempat wisata x 100 tempat wisata (masing-masing dalam sumbu X dan Y). Artinya, kita mengidentifikasi tingkat kesamaan pada 100 nama tempat wisata. Tapi tentu kita tidak bisa menampilkan semuanya. Oleh karena itu, kita hanya memilih 10 tempat wisata pada baris vertikal dan 5 tempat wisata pada sumbu horizontal seperti pada output di atas. \n",
        "\n",
        "Angka 1.0 mengindikasikan bahwa tempat wisata pada kolom X (horizontal) memiliki kesamaan dengan tempat wisata pada baris Y (vertikal). Sebagai contoh, tempat wisata Trinil teridentifikasi sama (similar) dengan tempat wisata Trowulan dan Museum Majapahit. Contoh lain, tempat wisata Nglirip teridentifikasi mirip dengan tempat wisata Dlundung, Sumber Maron, dan Coban Putri."
      ],
      "metadata": {
        "id": "rouefwXpErJU"
      }
    }
  ]
}